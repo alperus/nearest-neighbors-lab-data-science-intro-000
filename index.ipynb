{
 "cells": [
  {
   "cell_type": "markdown",
   "metadata": {},
   "source": [
    "# Nearest Neighbors Lab"
   ]
  },
  {
   "cell_type": "markdown",
   "metadata": {},
   "source": [
    "### Introduction\n",
    "\n",
    "In this lab, you apply nearest neighbors technique to help a taxi company predict the length of their rides.  Imagine that we are hired to consult for LiftOff, a limo and taxi service that is just opening up in NYC.  Liftoff wants it's taxi drivers to target longer rides, as the longer the ride the more money it makes.  LiftOff has the following theory:\n",
    "\n",
    "* the pickup location of a taxi ride can help predict the length of the ride.  \n",
    "\n",
    "\n",
    "\n",
    "LiftOff asks us to do some analysis to write a function that will allow it to **predict the length of a taxi ride for any given location **.\n",
    "\n",
    "Our technique will be the following:\n",
    "  * **Collect** Obtain the data containing all of the taxi information, and only select the attributes of taxi trips that we need \n",
    "  * ** Explore ** Examine the attributes of our data, and plot some of our data on a map\n",
    "  * ** Train ** Write our nearest neighbors formula, and change the number of nearby trips to predict the length of a new trip\n",
    "  * ** Predict ** Use our function to predict trip lengths of new locations"
   ]
  },
  {
   "cell_type": "markdown",
   "metadata": {},
   "source": [
    "### Collect and Explore the data"
   ]
  },
  {
   "cell_type": "markdown",
   "metadata": {},
   "source": [
    "#### Collect the Data"
   ]
  },
  {
   "cell_type": "markdown",
   "metadata": {},
   "source": [
    "Luckily for us, [NYC Open Data](https://opendata.cityofnewyork.us/) collects information about NYC taxi trips and provides this data on [its website](https://data.cityofnewyork.us/Transportation/2014-Yellow-Taxi-Trip-Data/gn7m-em8n)."
   ]
  },
  {
   "cell_type": "markdown",
   "metadata": {},
   "source": [
    "![](./nyc-taxi.png)"
   ]
  },
  {
   "cell_type": "markdown",
   "metadata": {},
   "source": [
    "For your reading pleasure, the data has already been downloaded into the [trips.json](https://github.com/learn-co-curriculum/nearest-neighbors-lab/blob/master/trips.json) file in this lab which you can find here.  We'll use Python's `json` library to take the data from the `trips.json` file and store it as a variable in our notebook."
   ]
  },
  {
   "cell_type": "code",
   "execution_count": 1,
   "metadata": {},
   "outputs": [],
   "source": [
    "import json\n",
    "# First, read the file\n",
    "trips_file = open('trips.json')\n",
    "# Then, convert contents to list of dictionaries \n",
    "trips = json.load(trips_file)"
   ]
  },
  {
   "cell_type": "markdown",
   "metadata": {},
   "source": [
    "> Press shift + enter"
   ]
  },
  {
   "cell_type": "markdown",
   "metadata": {},
   "source": [
    "#### Explore the data"
   ]
  },
  {
   "cell_type": "markdown",
   "metadata": {},
   "source": [
    "The next step is to explore the data.  First, let's see how many trips we have."
   ]
  },
  {
   "cell_type": "code",
   "execution_count": 2,
   "metadata": {},
   "outputs": [
    {
     "data": {
      "text/plain": [
       "1000"
      ]
     },
     "execution_count": 2,
     "metadata": {},
     "output_type": "execute_result"
    }
   ],
   "source": [
    "len(trips)"
   ]
  },
  {
   "cell_type": "markdown",
   "metadata": {},
   "source": [
    "Not bad at all.  Now let's see what each individual trip looks like.  Each trip is a dictionary, so we can see the attributes of each trip with the `keys` function."
   ]
  },
  {
   "cell_type": "code",
   "execution_count": 5,
   "metadata": {
    "scrolled": true
   },
   "outputs": [
    {
     "data": {
      "text/plain": [
       "dict_keys(['dropoff_datetime', 'dropoff_latitude', 'dropoff_longitude', 'fare_amount', 'imp_surcharge', 'mta_tax', 'passenger_count', 'payment_type', 'pickup_datetime', 'pickup_latitude', 'pickup_longitude', 'rate_code', 'tip_amount', 'tolls_amount', 'total_amount', 'trip_distance', 'vendor_id'])"
      ]
     },
     "execution_count": 5,
     "metadata": {},
     "output_type": "execute_result"
    }
   ],
   "source": [
    "trips[0].keys()"
   ]
  },
  {
   "cell_type": "markdown",
   "metadata": {},
   "source": [
    "#### Limit our data"
   ]
  },
  {
   "cell_type": "markdown",
   "metadata": {},
   "source": [
    "Ok, now that we have explored some of our data, let's begin to think through what data is relevant for our task."
   ]
  },
  {
   "cell_type": "markdown",
   "metadata": {
    "collapsed": true
   },
   "source": [
    "Remember that our task is to **use the trip location to predict the length of a trip**.  So let's select the `pickup_latitude`, `pickup_longitude`, and `trip_distance` from each trip.  That will give us the trip location and related `trip_distance` for each trip.  Then based on these **actual** trip distances we can use nearest neighbors to predict an **expected** trip distance for a trip, provided an **actual** location."
   ]
  },
  {
   "cell_type": "markdown",
   "metadata": {},
   "source": [
    "** Add in about trip distance ** "
   ]
  },
  {
   "cell_type": "markdown",
   "metadata": {},
   "source": [
    "Write a function called `parse_trips(trips)` that returns a list of the trips with only the following attributes: \n",
    "* `trip_distance`\n",
    "* `pickup_latitude`\n",
    "* `pickup_longitude`"
   ]
  },
  {
   "cell_type": "code",
   "execution_count": 14,
   "metadata": {},
   "outputs": [],
   "source": [
    "def parse_trips(trips):\n",
    "    parsed_trips = []\n",
    "    for x in range(len(trips)): \n",
    "        pickup_latitude = trips[x][\"pickup_latitude\"]\n",
    "        pickup_longitude = trips[x][\"pickup_longitude\"]\n",
    "        trip_distance = trips[x][\"trip_distance\"]\n",
    "        \n",
    "        dict_new = {\n",
    "            \"trip_distance\" : trip_distance,\n",
    "            \"pickup_latitude\" : pickup_latitude,\n",
    "            \"pickup_longitude\" : pickup_longitude\n",
    "            \n",
    "        } \n",
    "        parsed_trips.append(dict_new)\n",
    "    return parsed_trips\n",
    "\n",
    "\n",
    "\n",
    "    \n",
    "    \n",
    "    \n",
    "        \n",
    "    \n",
    "    "
   ]
  },
  {
   "cell_type": "code",
   "execution_count": 15,
   "metadata": {},
   "outputs": [
    {
     "data": {
      "text/plain": [
       "{'trip_distance': '18.379999999999999',\n",
       " 'pickup_latitude': '40.64499',\n",
       " 'pickup_longitude': '-73.781149999999997'}"
      ]
     },
     "execution_count": 15,
     "metadata": {},
     "output_type": "execute_result"
    }
   ],
   "source": [
    "parsed_trips = parse_trips(trips)\n",
    "parsed_trips and parsed_trips[0]\n",
    "\n",
    "# {'pickup_latitude': '40.64499',\n",
    "#  'pickup_longitude': '-73.78115',\n",
    "#  'trip_distance': '18.38'}"
   ]
  },
  {
   "cell_type": "markdown",
   "metadata": {},
   "source": [
    "Now, there's just one change to make.  If you look at one of the trips, all of the values are strings.  Let's change them to be floats."
   ]
  },
  {
   "cell_type": "code",
   "execution_count": 23,
   "metadata": {},
   "outputs": [],
   "source": [
    "def float_values(trips):\n",
    "    float_values = []\n",
    "    for value in parse_trips(trips):\n",
    "        td = float(value[\"trip_distance\"])\n",
    "        lat = float(value[\"pickup_latitude\"])\n",
    "        long = float(value[\"pickup_longitude\"])\n",
    "        dict_new =  {\n",
    "            'pickup_latitude': lat,\n",
    "            'pickup_longitude': long,\n",
    "            'trip_distance': td\n",
    "        }\n",
    "        float_values.append(dict_new)\n",
    "        \n",
    "    return float_values\n",
    "\n"
   ]
  },
  {
   "cell_type": "code",
   "execution_count": 24,
   "metadata": {},
   "outputs": [],
   "source": [
    "cleaned_trips = float_values(parsed_trips)"
   ]
  },
  {
   "cell_type": "code",
   "execution_count": 25,
   "metadata": {},
   "outputs": [
    {
     "data": {
      "text/plain": [
       "{'pickup_latitude': 40.64499,\n",
       " 'pickup_longitude': -73.78115,\n",
       " 'trip_distance': 18.38}"
      ]
     },
     "execution_count": 25,
     "metadata": {},
     "output_type": "execute_result"
    }
   ],
   "source": [
    "cleaned_trips[0]\n",
    "\n",
    "# {'pickup_latitude': 40.64499,\n",
    "#  'pickup_longitude': -73.78115,\n",
    "#  'trip_distance': 18.38}"
   ]
  },
  {
   "cell_type": "markdown",
   "metadata": {},
   "source": [
    "### Exploring the Data"
   ]
  },
  {
   "cell_type": "markdown",
   "metadata": {},
   "source": [
    "Now that we have paired down our data, let's get a sense of our trip data.  We can use the `folium` Python library to plot a map of Manhattan, and our data.  First we must import `folium`, and then use the `Map` function to pass through a `location`, and `zoom_start`.  If a map isn't showing up below, copy and paste the command `pip install -r requirements.txt` into your terminal to install `folium` then try again."
   ]
  },
  {
   "cell_type": "code",
   "execution_count": 62,
   "metadata": {},
   "outputs": [],
   "source": [
    "import folium\n",
    "manhattan_map = folium.Map(location=[40.7589, -73.9851], zoom_start=11)"
   ]
  },
  {
   "cell_type": "code",
   "execution_count": 27,
   "metadata": {
    "scrolled": true
   },
   "outputs": [
    {
     "data": {
      "text/html": [
       "<div style=\"width:100%;\"><div style=\"position:relative;width:100%;height:0;padding-bottom:60%;\"><iframe src=\"data:text/html;charset=utf-8;base64,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\" style=\"position:absolute;width:100%;height:100%;left:0;top:0;border:none !important;\" allowfullscreen webkitallowfullscreen mozallowfullscreen></iframe></div></div>"
      ],
      "text/plain": [
       "<folium.folium.Map at 0x7fa7c1dce898>"
      ]
     },
     "execution_count": 27,
     "metadata": {},
     "output_type": "execute_result"
    }
   ],
   "source": [
    "manhattan_map"
   ]
  },
  {
   "cell_type": "markdown",
   "metadata": {},
   "source": [
    "Ok, now let's see how we could add a dot to mark a specific location.  We'll start with Times Square."
   ]
  },
  {
   "cell_type": "code",
   "execution_count": 28,
   "metadata": {},
   "outputs": [
    {
     "data": {
      "text/plain": [
       "<folium.vector_layers.CircleMarker at 0x7fa79b0b0278>"
      ]
     },
     "execution_count": 28,
     "metadata": {},
     "output_type": "execute_result"
    }
   ],
   "source": [
    "marker = folium.CircleMarker(location = [40.7589, -73.9851], radius=10)\n",
    "marker.add_to(manhattan_map)"
   ]
  },
  {
   "cell_type": "markdown",
   "metadata": {},
   "source": [
    "Above, we first create a marker.  Then we add that circle marker to the `manhattan_map` we created earlier. "
   ]
  },
  {
   "cell_type": "code",
   "execution_count": 29,
   "metadata": {
    "scrolled": false
   },
   "outputs": [
    {
     "data": {
      "text/html": [
       "<div style=\"width:100%;\"><div style=\"position:relative;width:100%;height:0;padding-bottom:60%;\"><iframe src=\"data:text/html;charset=utf-8;base64,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\" style=\"position:absolute;width:100%;height:100%;left:0;top:0;border:none !important;\" allowfullscreen webkitallowfullscreen mozallowfullscreen></iframe></div></div>"
      ],
      "text/plain": [
       "<folium.folium.Map at 0x7fa7c1dce898>"
      ]
     },
     "execution_count": 29,
     "metadata": {},
     "output_type": "execute_result"
    }
   ],
   "source": [
    "manhattan_map"
   ]
  },
  {
   "cell_type": "markdown",
   "metadata": {},
   "source": [
    "Do you see that blue dot near Time's Square?  That is our marker.  \n",
    "\n",
    "So now that we can plot one marker on a map, we should have a sense of how we can plot many markers on a map to display our taxi ride data.  We simply plot a map, and then we add a marker for each location of a taxi trip.\n",
    "\n",
    "Now let's write some functions to allow us to plot maps and add markers a little more easily.  "
   ]
  },
  {
   "cell_type": "markdown",
   "metadata": {},
   "source": [
    "#### Writing some map plotting functions"
   ]
  },
  {
   "cell_type": "markdown",
   "metadata": {},
   "source": [
    "As a first step towards this, note that the functions to create both a marker and map each take in a location as two element list, representing the latitude and longitude values.  Take another look:\n",
    "\n",
    "```python\n",
    "marker = folium.CircleMarker(location = [40.7589, -73.9851])\n",
    "manhattan_map = folium.Map(location=[40.7589, -73.9851])\n",
    "```\n",
    "\n",
    "So let's write a function called to create this two element list from a trip.  Write a function called `location` that  takes in a trip as an argument and returns a list where the first element is the latitude and the second is the longitude.  Remember that a location looks like the following:"
   ]
  },
  {
   "cell_type": "code",
   "execution_count": 31,
   "metadata": {},
   "outputs": [
    {
     "data": {
      "text/plain": [
       "{'pickup_latitude': 40.64499,\n",
       " 'pickup_longitude': -73.78115,\n",
       " 'trip_distance': 18.38}"
      ]
     },
     "execution_count": 31,
     "metadata": {},
     "output_type": "execute_result"
    }
   ],
   "source": [
    "first_trip = {'pickup_latitude': 40.64499, 'pickup_longitude': -73.78115,  'trip_distance': 18.38}\n",
    "first_trip"
   ]
  },
  {
   "cell_type": "code",
   "execution_count": 32,
   "metadata": {},
   "outputs": [],
   "source": [
    "def location(trip):\n",
    "    lst = []\n",
    "    lst.append(trip[\"pickup_latitude\"])\n",
    "    lst.append(trip[\"pickup_longitude\"])\n",
    "    return lst\n",
    "    "
   ]
  },
  {
   "cell_type": "code",
   "execution_count": 46,
   "metadata": {},
   "outputs": [
    {
     "data": {
      "text/plain": [
       "[40.64499, -73.78115]"
      ]
     },
     "execution_count": 46,
     "metadata": {},
     "output_type": "execute_result"
    }
   ],
   "source": [
    "first_location = location(first_trip) # [40.64499, -73.78115]\n",
    "first_location # [40.64499, -73.78115]"
   ]
  },
  {
   "cell_type": "markdown",
   "metadata": {},
   "source": [
    "Ok, now that we can turn a trip into a location, let's turn a location into a marker.  Write a function called `to_marker` that takes in a location (in the form of a list) as an argument, and returns a folium `circleMarker` for that location.  The radius of the marker should always equal 6."
   ]
  },
  {
   "cell_type": "code",
   "execution_count": 48,
   "metadata": {},
   "outputs": [
    {
     "data": {
      "text/plain": [
       "<folium.vector_layers.CircleMarker at 0x7fa79b022518>"
      ]
     },
     "execution_count": 48,
     "metadata": {},
     "output_type": "execute_result"
    }
   ],
   "source": [
    "def to_marker(location):\n",
    "    marker = folium.CircleMarker(location = location , radius=6)\n",
    "    return marker\n"
   ]
  },
  {
   "cell_type": "code",
   "execution_count": 53,
   "metadata": {},
   "outputs": [
    {
     "ename": "TypeError",
     "evalue": "the JSON object must be str, bytes or bytearray, not 'int'",
     "output_type": "error",
     "traceback": [
      "\u001b[0;31m\u001b[0m",
      "\u001b[0;31mTypeError\u001b[0mTraceback (most recent call last)",
      "\u001b[0;32m<ipython-input-53-d6928a3bf5d3>\u001b[0m in \u001b[0;36m<module>\u001b[0;34m\u001b[0m\n\u001b[1;32m      3\u001b[0m \u001b[0;34m\u001b[0m\u001b[0m\n\u001b[1;32m      4\u001b[0m \u001b[0mtimes_square_marker\u001b[0m \u001b[0;32mand\u001b[0m \u001b[0mtimes_square_marker\u001b[0m\u001b[0;34m.\u001b[0m\u001b[0mlocation\u001b[0m \u001b[0;31m# [40.7589, -73.9851]\u001b[0m\u001b[0;34m\u001b[0m\u001b[0;34m\u001b[0m\u001b[0m\n\u001b[0;32m----> 5\u001b[0;31m \u001b[0mtimes_square_marker\u001b[0m \u001b[0;32mand\u001b[0m \u001b[0mjson\u001b[0m\u001b[0;34m.\u001b[0m\u001b[0mloads\u001b[0m\u001b[0;34m(\u001b[0m\u001b[0;34m(\u001b[0m\u001b[0mtimes_square_marker\u001b[0m\u001b[0;34m.\u001b[0m\u001b[0moptions\u001b[0m\u001b[0;34m)\u001b[0m\u001b[0;34m[\u001b[0m\u001b[0;34m'radius'\u001b[0m\u001b[0;34m]\u001b[0m\u001b[0;34m)\u001b[0m \u001b[0;31m# 6\u001b[0m\u001b[0;34m\u001b[0m\u001b[0;34m\u001b[0m\u001b[0m\n\u001b[0m",
      "\u001b[0;32m/opt/conda/envs/learn-env/lib/python3.6/json/__init__.py\u001b[0m in \u001b[0;36mloads\u001b[0;34m(s, encoding, cls, object_hook, parse_float, parse_int, parse_constant, object_pairs_hook, **kw)\u001b[0m\n\u001b[1;32m    346\u001b[0m         \u001b[0;32mif\u001b[0m \u001b[0;32mnot\u001b[0m \u001b[0misinstance\u001b[0m\u001b[0;34m(\u001b[0m\u001b[0ms\u001b[0m\u001b[0;34m,\u001b[0m \u001b[0;34m(\u001b[0m\u001b[0mbytes\u001b[0m\u001b[0;34m,\u001b[0m \u001b[0mbytearray\u001b[0m\u001b[0;34m)\u001b[0m\u001b[0;34m)\u001b[0m\u001b[0;34m:\u001b[0m\u001b[0;34m\u001b[0m\u001b[0;34m\u001b[0m\u001b[0m\n\u001b[1;32m    347\u001b[0m             raise TypeError('the JSON object must be str, bytes or bytearray, '\n\u001b[0;32m--> 348\u001b[0;31m                             'not {!r}'.format(s.__class__.__name__))\n\u001b[0m\u001b[1;32m    349\u001b[0m         \u001b[0ms\u001b[0m \u001b[0;34m=\u001b[0m \u001b[0ms\u001b[0m\u001b[0;34m.\u001b[0m\u001b[0mdecode\u001b[0m\u001b[0;34m(\u001b[0m\u001b[0mdetect_encoding\u001b[0m\u001b[0;34m(\u001b[0m\u001b[0ms\u001b[0m\u001b[0;34m)\u001b[0m\u001b[0;34m,\u001b[0m \u001b[0;34m'surrogatepass'\u001b[0m\u001b[0;34m)\u001b[0m\u001b[0;34m\u001b[0m\u001b[0;34m\u001b[0m\u001b[0m\n\u001b[1;32m    350\u001b[0m \u001b[0;34m\u001b[0m\u001b[0m\n",
      "\u001b[0;31mTypeError\u001b[0m: the JSON object must be str, bytes or bytearray, not 'int'"
     ]
    }
   ],
   "source": [
    "import json\n",
    "times_square_marker = to_marker([40.7589, -73.9851])\n",
    "\n",
    "times_square_marker and times_square_marker.location # [40.7589, -73.9851]\n",
    "times_square_marker and json.loads(times_square_marker.options)['radius'] # 6"
   ]
  },
  {
   "cell_type": "markdown",
   "metadata": {},
   "source": [
    "Ok, now that we know how to produce a single marker, let's write a function to produce lots.  We can write a function called `markers_from_trips` that takes in a list of trips, and returns a marker object for each trip.  "
   ]
  },
  {
   "cell_type": "code",
   "execution_count": 54,
   "metadata": {},
   "outputs": [],
   "source": [
    "def markers_from_trips(trips):\n",
    "    marker_lst = []\n",
    "    for item in trips:\n",
    "        long = (item[\"pickup_longitude\"])\n",
    "        lat = (item[\"pickup_latitude\"])\n",
    "        marker = folium.CircleMarker(location = [lat,long] , radius=6)\n",
    "        marker_lst.append(marker)\n",
    "    return marker_lst"
   ]
  },
  {
   "cell_type": "code",
   "execution_count": 55,
   "metadata": {},
   "outputs": [],
   "source": [
    "trip_markers = markers_from_trips(cleaned_trips)"
   ]
  },
  {
   "cell_type": "code",
   "execution_count": 64,
   "metadata": {},
   "outputs": [
    {
     "data": {
      "text/plain": [
       "[<folium.vector_layers.CircleMarker at 0x7fa7c19d4320>,\n",
       " <folium.vector_layers.CircleMarker at 0x7fa7c19d40f0>,\n",
       " <folium.vector_layers.CircleMarker at 0x7fa7c19d4b38>,\n",
       " <folium.vector_layers.CircleMarker at 0x7fa79afb7f98>,\n",
       " <folium.vector_layers.CircleMarker at 0x7fa79afb7d68>,\n",
       " <folium.vector_layers.CircleMarker at 0x7fa79afb7160>,\n",
       " <folium.vector_layers.CircleMarker at 0x7fa79afb7f28>,\n",
       " <folium.vector_layers.CircleMarker at 0x7fa79af8dc88>,\n",
       " <folium.vector_layers.CircleMarker at 0x7fa79af8dcf8>,\n",
       " <folium.vector_layers.CircleMarker at 0x7fa79af8d208>,\n",
       " <folium.vector_layers.CircleMarker at 0x7fa79af8d828>,\n",
       " <folium.vector_layers.CircleMarker at 0x7fa79af8deb8>,\n",
       " <folium.vector_layers.CircleMarker at 0x7fa79af8d668>,\n",
       " <folium.vector_layers.CircleMarker at 0x7fa79af8db38>,\n",
       " <folium.vector_layers.CircleMarker at 0x7fa79af8d898>,\n",
       " <folium.vector_layers.CircleMarker at 0x7fa79af8d908>,\n",
       " <folium.vector_layers.CircleMarker at 0x7fa79af8d438>,\n",
       " <folium.vector_layers.CircleMarker at 0x7fa79af8d748>,\n",
       " <folium.vector_layers.CircleMarker at 0x7fa79afb95c0>,\n",
       " <folium.vector_layers.CircleMarker at 0x7fa79afb9b38>,\n",
       " <folium.vector_layers.CircleMarker at 0x7fa79afb9f60>,\n",
       " <folium.vector_layers.CircleMarker at 0x7fa79afb9940>,\n",
       " <folium.vector_layers.CircleMarker at 0x7fa79afb9d68>,\n",
       " <folium.vector_layers.CircleMarker at 0x7fa79afb98d0>,\n",
       " <folium.vector_layers.CircleMarker at 0x7fa79af1a6d8>,\n",
       " <folium.vector_layers.CircleMarker at 0x7fa79af1aac8>,\n",
       " <folium.vector_layers.CircleMarker at 0x7fa79af1ae80>,\n",
       " <folium.vector_layers.CircleMarker at 0x7fa79af1a710>,\n",
       " <folium.vector_layers.CircleMarker at 0x7fa79af1add8>,\n",
       " <folium.vector_layers.CircleMarker at 0x7fa79af1af60>,\n",
       " <folium.vector_layers.CircleMarker at 0x7fa79af1aef0>,\n",
       " <folium.vector_layers.CircleMarker at 0x7fa79af1abe0>,\n",
       " <folium.vector_layers.CircleMarker at 0x7fa79afbc0f0>,\n",
       " <folium.vector_layers.CircleMarker at 0x7fa79afbcf98>,\n",
       " <folium.vector_layers.CircleMarker at 0x7fa79afbca90>,\n",
       " <folium.vector_layers.CircleMarker at 0x7fa79afbcf28>,\n",
       " <folium.vector_layers.CircleMarker at 0x7fa79af656d8>,\n",
       " <folium.vector_layers.CircleMarker at 0x7fa79af653c8>,\n",
       " <folium.vector_layers.CircleMarker at 0x7fa79af65128>,\n",
       " <folium.vector_layers.CircleMarker at 0x7fa79af65278>,\n",
       " <folium.vector_layers.CircleMarker at 0x7fa79af652e8>,\n",
       " <folium.vector_layers.CircleMarker at 0x7fa79af65358>,\n",
       " <folium.vector_layers.CircleMarker at 0x7fa79af65978>,\n",
       " <folium.vector_layers.CircleMarker at 0x7fa79af659e8>,\n",
       " <folium.vector_layers.CircleMarker at 0x7fa79af65a58>,\n",
       " <folium.vector_layers.CircleMarker at 0x7fa79af65ac8>,\n",
       " <folium.vector_layers.CircleMarker at 0x7fa79af65b38>,\n",
       " <folium.vector_layers.CircleMarker at 0x7fa79af65ba8>,\n",
       " <folium.vector_layers.CircleMarker at 0x7fa79af65c18>,\n",
       " <folium.vector_layers.CircleMarker at 0x7fa79af65c88>,\n",
       " <folium.vector_layers.CircleMarker at 0x7fa79af65cf8>,\n",
       " <folium.vector_layers.CircleMarker at 0x7fa79af65d68>,\n",
       " <folium.vector_layers.CircleMarker at 0x7fa79af65dd8>,\n",
       " <folium.vector_layers.CircleMarker at 0x7fa79af65e48>,\n",
       " <folium.vector_layers.CircleMarker at 0x7fa79af65eb8>,\n",
       " <folium.vector_layers.CircleMarker at 0x7fa79af65f28>,\n",
       " <folium.vector_layers.CircleMarker at 0x7fa79af65f98>,\n",
       " <folium.vector_layers.CircleMarker at 0x7fa79af65828>,\n",
       " <folium.vector_layers.CircleMarker at 0x7fa79af65240>,\n",
       " <folium.vector_layers.CircleMarker at 0x7fa79af65048>,\n",
       " <folium.vector_layers.CircleMarker at 0x7fa79af65198>,\n",
       " <folium.vector_layers.CircleMarker at 0x7fa79af65588>,\n",
       " <folium.vector_layers.CircleMarker at 0x7fa79af7c0b8>,\n",
       " <folium.vector_layers.CircleMarker at 0x7fa79af7c0f0>,\n",
       " <folium.vector_layers.CircleMarker at 0x7fa79af7c128>,\n",
       " <folium.vector_layers.CircleMarker at 0x7fa79af7c160>,\n",
       " <folium.vector_layers.CircleMarker at 0x7fa79af7c198>,\n",
       " <folium.vector_layers.CircleMarker at 0x7fa79af7c1d0>,\n",
       " <folium.vector_layers.CircleMarker at 0x7fa79af7c240>,\n",
       " <folium.vector_layers.CircleMarker at 0x7fa79af7cbe0>,\n",
       " <folium.vector_layers.CircleMarker at 0x7fa79af7c080>,\n",
       " <folium.vector_layers.CircleMarker at 0x7fa79af7cb38>,\n",
       " <folium.vector_layers.CircleMarker at 0x7fa79af7c780>,\n",
       " <folium.vector_layers.CircleMarker at 0x7fa79af7ca58>,\n",
       " <folium.vector_layers.CircleMarker at 0x7fa79af7cc50>,\n",
       " <folium.vector_layers.CircleMarker at 0x7fa79af7c5f8>,\n",
       " <folium.vector_layers.CircleMarker at 0x7fa79af7c518>,\n",
       " <folium.vector_layers.CircleMarker at 0x7fa79b0a2588>,\n",
       " <folium.vector_layers.CircleMarker at 0x7fa79af7c2b0>,\n",
       " <folium.vector_layers.CircleMarker at 0x7fa79af7ecc0>,\n",
       " <folium.vector_layers.CircleMarker at 0x7fa79af7e2b0>,\n",
       " <folium.vector_layers.CircleMarker at 0x7fa79af7eba8>,\n",
       " <folium.vector_layers.CircleMarker at 0x7fa79af7eeb8>,\n",
       " <folium.vector_layers.CircleMarker at 0x7fa79af7e160>,\n",
       " <folium.vector_layers.CircleMarker at 0x7fa79af7e550>,\n",
       " <folium.vector_layers.CircleMarker at 0x7fa79af7e390>,\n",
       " <folium.vector_layers.CircleMarker at 0x7fa79af7e208>,\n",
       " <folium.vector_layers.CircleMarker at 0x7fa79af7e828>,\n",
       " <folium.vector_layers.CircleMarker at 0x7fa79af7ef60>,\n",
       " <folium.vector_layers.CircleMarker at 0x7fa79af7e518>,\n",
       " <folium.vector_layers.CircleMarker at 0x7fa79af7ec88>,\n",
       " <folium.vector_layers.CircleMarker at 0x7fa79b022588>,\n",
       " <folium.vector_layers.CircleMarker at 0x7fa79b022390>,\n",
       " <folium.vector_layers.CircleMarker at 0x7fa79b022cf8>,\n",
       " <folium.vector_layers.CircleMarker at 0x7fa79b022668>,\n",
       " <folium.vector_layers.CircleMarker at 0x7fa79b022780>,\n",
       " <folium.vector_layers.CircleMarker at 0x7fa79b022278>,\n",
       " <folium.vector_layers.CircleMarker at 0x7fa79b0229b0>,\n",
       " <folium.vector_layers.CircleMarker at 0x7fa79b0225f8>,\n",
       " <folium.vector_layers.CircleMarker at 0x7fa79b022e10>,\n",
       " <folium.vector_layers.CircleMarker at 0x7fa79b022208>,\n",
       " <folium.vector_layers.CircleMarker at 0x7fa79b022a58>,\n",
       " <folium.vector_layers.CircleMarker at 0x7fa79b022ba8>,\n",
       " <folium.vector_layers.CircleMarker at 0x7fa79b022c88>,\n",
       " <folium.vector_layers.CircleMarker at 0x7fa79b022940>,\n",
       " <folium.vector_layers.CircleMarker at 0x7fa79b022be0>,\n",
       " <folium.vector_layers.CircleMarker at 0x7fa79af94550>,\n",
       " <folium.vector_layers.CircleMarker at 0x7fa79af94828>,\n",
       " <folium.vector_layers.CircleMarker at 0x7fa79af94a20>,\n",
       " <folium.vector_layers.CircleMarker at 0x7fa79af94940>,\n",
       " <folium.vector_layers.CircleMarker at 0x7fa79af94a90>,\n",
       " <folium.vector_layers.CircleMarker at 0x7fa79af94ba8>,\n",
       " <folium.vector_layers.CircleMarker at 0x7fa79af94e80>,\n",
       " <folium.vector_layers.CircleMarker at 0x7fa79af94e48>,\n",
       " <folium.vector_layers.CircleMarker at 0x7fa79af94ef0>,\n",
       " <folium.vector_layers.CircleMarker at 0x7fa79af94208>,\n",
       " <folium.vector_layers.CircleMarker at 0x7fa79af94080>,\n",
       " <folium.vector_layers.CircleMarker at 0x7fa79af94f28>,\n",
       " <folium.vector_layers.CircleMarker at 0x7fa79af94dd8>,\n",
       " <folium.vector_layers.CircleMarker at 0x7fa79af94f60>,\n",
       " <folium.vector_layers.CircleMarker at 0x7fa79af94cf8>,\n",
       " <folium.vector_layers.CircleMarker at 0x7fa79af946d8>,\n",
       " <folium.vector_layers.CircleMarker at 0x7fa79af94588>,\n",
       " <folium.vector_layers.CircleMarker at 0x7fa79af94978>,\n",
       " <folium.vector_layers.CircleMarker at 0x7fa79af946a0>,\n",
       " <folium.vector_layers.CircleMarker at 0x7fa79af94320>,\n",
       " <folium.vector_layers.CircleMarker at 0x7fa79af942b0>,\n",
       " <folium.vector_layers.CircleMarker at 0x7fa79af94278>,\n",
       " <folium.vector_layers.CircleMarker at 0x7fa79af94438>,\n",
       " <folium.vector_layers.CircleMarker at 0x7fa79b01c6a0>,\n",
       " <folium.vector_layers.CircleMarker at 0x7fa79b01c128>,\n",
       " <folium.vector_layers.CircleMarker at 0x7fa79b01ce10>,\n",
       " <folium.vector_layers.CircleMarker at 0x7fa79b01c630>,\n",
       " <folium.vector_layers.CircleMarker at 0x7fa79b01c0b8>,\n",
       " <folium.vector_layers.CircleMarker at 0x7fa79b01ce80>,\n",
       " <folium.vector_layers.CircleMarker at 0x7fa79b01c470>,\n",
       " <folium.vector_layers.CircleMarker at 0x7fa79b01c390>,\n",
       " <folium.vector_layers.CircleMarker at 0x7fa79b01cdd8>,\n",
       " <folium.vector_layers.CircleMarker at 0x7fa79b01c438>,\n",
       " <folium.vector_layers.CircleMarker at 0x7fa79b01ceb8>,\n",
       " <folium.vector_layers.CircleMarker at 0x7fa79b01cf28>,\n",
       " <folium.vector_layers.CircleMarker at 0x7fa79b01c6d8>,\n",
       " <folium.vector_layers.CircleMarker at 0x7fa79afa6438>,\n",
       " <folium.vector_layers.CircleMarker at 0x7fa79afa66a0>,\n",
       " <folium.vector_layers.CircleMarker at 0x7fa79afa69b0>,\n",
       " <folium.vector_layers.CircleMarker at 0x7fa79afa6208>,\n",
       " <folium.vector_layers.CircleMarker at 0x7fa79afa6780>,\n",
       " <folium.vector_layers.CircleMarker at 0x7fa79afa6400>,\n",
       " <folium.vector_layers.CircleMarker at 0x7fa79afa6550>,\n",
       " <folium.vector_layers.CircleMarker at 0x7fa79afa66d8>,\n",
       " <folium.vector_layers.CircleMarker at 0x7fa79afa6198>,\n",
       " <folium.vector_layers.CircleMarker at 0x7fa79afa6b38>,\n",
       " <folium.vector_layers.CircleMarker at 0x7fa79afa6c18>,\n",
       " <folium.vector_layers.CircleMarker at 0x7fa79afa67b8>,\n",
       " <folium.vector_layers.CircleMarker at 0x7fa79afa6da0>,\n",
       " <folium.vector_layers.CircleMarker at 0x7fa79afa6048>,\n",
       " <folium.vector_layers.CircleMarker at 0x7fa79afa6d30>,\n",
       " <folium.vector_layers.CircleMarker at 0x7fa79afa62e8>,\n",
       " <folium.vector_layers.CircleMarker at 0x7fa79afa6908>,\n",
       " <folium.vector_layers.CircleMarker at 0x7fa79afa6710>,\n",
       " <folium.vector_layers.CircleMarker at 0x7fa79afa6ba8>,\n",
       " <folium.vector_layers.CircleMarker at 0x7fa79afa6898>,\n",
       " <folium.vector_layers.CircleMarker at 0x7fa79afa6860>,\n",
       " <folium.vector_layers.CircleMarker at 0x7fa79b026898>,\n",
       " <folium.vector_layers.CircleMarker at 0x7fa79b026438>,\n",
       " <folium.vector_layers.CircleMarker at 0x7fa79b026c88>,\n",
       " <folium.vector_layers.CircleMarker at 0x7fa79b026320>,\n",
       " <folium.vector_layers.CircleMarker at 0x7fa79b026be0>,\n",
       " <folium.vector_layers.CircleMarker at 0x7fa79b026160>,\n",
       " <folium.vector_layers.CircleMarker at 0x7fa79b026a90>,\n",
       " <folium.vector_layers.CircleMarker at 0x7fa79b0260f0>,\n",
       " <folium.vector_layers.CircleMarker at 0x7fa79b026b70>,\n",
       " <folium.vector_layers.CircleMarker at 0x7fa79b026d30>,\n",
       " <folium.vector_layers.CircleMarker at 0x7fa79b07d2e8>,\n",
       " <folium.vector_layers.CircleMarker at 0x7fa79b07d4e0>,\n",
       " <folium.vector_layers.CircleMarker at 0x7fa79b07d3c8>,\n",
       " <folium.vector_layers.CircleMarker at 0x7fa79b07df60>,\n",
       " <folium.vector_layers.CircleMarker at 0x7fa79b07dc50>,\n",
       " <folium.vector_layers.CircleMarker at 0x7fa79b07d320>,\n",
       " <folium.vector_layers.CircleMarker at 0x7fa79b07d518>,\n",
       " <folium.vector_layers.CircleMarker at 0x7fa79af1d6a0>,\n",
       " <folium.vector_layers.CircleMarker at 0x7fa79af1d198>,\n",
       " <folium.vector_layers.CircleMarker at 0x7fa79af1d128>,\n",
       " <folium.vector_layers.CircleMarker at 0x7fa79af1d208>,\n",
       " <folium.vector_layers.CircleMarker at 0x7fa79af1d400>,\n",
       " <folium.vector_layers.CircleMarker at 0x7fa79af1d390>,\n",
       " <folium.vector_layers.CircleMarker at 0x7fa79af1d470>,\n",
       " <folium.vector_layers.CircleMarker at 0x7fa79af1d668>,\n",
       " <folium.vector_layers.CircleMarker at 0x7fa79af1d860>,\n",
       " <folium.vector_layers.CircleMarker at 0x7fa79af1dba8>,\n",
       " <folium.vector_layers.CircleMarker at 0x7fa79af1de10>,\n",
       " <folium.vector_layers.CircleMarker at 0x7fa79af1dd30>,\n",
       " <folium.vector_layers.CircleMarker at 0x7fa79af1de80>,\n",
       " <folium.vector_layers.CircleMarker at 0x7fa79af1dfd0>,\n",
       " <folium.vector_layers.CircleMarker at 0x7fa79af1df98>,\n",
       " <folium.vector_layers.CircleMarker at 0x7fa79af1df28>,\n",
       " <folium.vector_layers.CircleMarker at 0x7fa79af1dda0>,\n",
       " <folium.vector_layers.CircleMarker at 0x7fa79af1dc88>,\n",
       " <folium.vector_layers.CircleMarker at 0x7fa79af1ddd8>,\n",
       " <folium.vector_layers.CircleMarker at 0x7fa79af1de48>,\n",
       " <folium.vector_layers.CircleMarker at 0x7fa79af1deb8>,\n",
       " <folium.vector_layers.CircleMarker at 0x7fa79af1df60>,\n",
       " <folium.vector_layers.CircleMarker at 0x7fa79af1def0>,\n",
       " <folium.vector_layers.CircleMarker at 0x7fa79af1db00>,\n",
       " <folium.vector_layers.CircleMarker at 0x7fa79af1da90>,\n",
       " <folium.vector_layers.CircleMarker at 0x7fa79af1da20>,\n",
       " <folium.vector_layers.CircleMarker at 0x7fa79af1dc18>,\n",
       " <folium.vector_layers.CircleMarker at 0x7fa79af1dc50>,\n",
       " <folium.vector_layers.CircleMarker at 0x7fa79af1dcc0>,\n",
       " <folium.vector_layers.CircleMarker at 0x7fa79af1dd68>,\n",
       " <folium.vector_layers.CircleMarker at 0x7fa79af1dcf8>,\n",
       " <folium.vector_layers.CircleMarker at 0x7fa79af1d780>,\n",
       " <folium.vector_layers.CircleMarker at 0x7fa79af1d978>,\n",
       " <folium.vector_layers.CircleMarker at 0x7fa79af1d9e8>,\n",
       " <folium.vector_layers.CircleMarker at 0x7fa79af1da58>,\n",
       " <folium.vector_layers.CircleMarker at 0x7fa79af1dac8>,\n",
       " <folium.vector_layers.CircleMarker at 0x7fa79af1db38>,\n",
       " <folium.vector_layers.CircleMarker at 0x7fa79af1dbe0>,\n",
       " <folium.vector_layers.CircleMarker at 0x7fa79af1db70>,\n",
       " <folium.vector_layers.CircleMarker at 0x7fa79af1d8d0>,\n",
       " <folium.vector_layers.CircleMarker at 0x7fa79af1d7f0>,\n",
       " <folium.vector_layers.CircleMarker at 0x7fa79af1d828>,\n",
       " <folium.vector_layers.CircleMarker at 0x7fa79af1d898>,\n",
       " <folium.vector_layers.CircleMarker at 0x7fa79af1d908>,\n",
       " <folium.vector_layers.CircleMarker at 0x7fa79af1d9b0>,\n",
       " <folium.vector_layers.CircleMarker at 0x7fa79af1d940>,\n",
       " <folium.vector_layers.CircleMarker at 0x7fa79af1d5f8>,\n",
       " <folium.vector_layers.CircleMarker at 0x7fa79af1d5c0>,\n",
       " <folium.vector_layers.CircleMarker at 0x7fa79af1d630>,\n",
       " <folium.vector_layers.CircleMarker at 0x7fa79af1d710>,\n",
       " <folium.vector_layers.CircleMarker at 0x7fa79af1d7b8>,\n",
       " <folium.vector_layers.CircleMarker at 0x7fa79af1d748>,\n",
       " <folium.vector_layers.CircleMarker at 0x7fa79af1d588>,\n",
       " <folium.vector_layers.CircleMarker at 0x7fa79af1d358>,\n",
       " <folium.vector_layers.CircleMarker at 0x7fa79af1d2b0>,\n",
       " <folium.vector_layers.CircleMarker at 0x7fa79af1d3c8>,\n",
       " <folium.vector_layers.CircleMarker at 0x7fa79af1d438>,\n",
       " <folium.vector_layers.CircleMarker at 0x7fa79af1d4a8>,\n",
       " <folium.vector_layers.CircleMarker at 0x7fa79af1d550>,\n",
       " <folium.vector_layers.CircleMarker at 0x7fa79af1d4e0>,\n",
       " <folium.vector_layers.CircleMarker at 0x7fa79af1d320>,\n",
       " <folium.vector_layers.CircleMarker at 0x7fa79af1d0f0>,\n",
       " <folium.vector_layers.CircleMarker at 0x7fa79af1d048>,\n",
       " <folium.vector_layers.CircleMarker at 0x7fa79af1d518>,\n",
       " <folium.vector_layers.CircleMarker at 0x7fa79af1d6d8>,\n",
       " <folium.vector_layers.CircleMarker at 0x7fa79afa0f98>,\n",
       " <folium.vector_layers.CircleMarker at 0x7fa79afa0748>,\n",
       " <folium.vector_layers.CircleMarker at 0x7fa79afa0828>,\n",
       " <folium.vector_layers.CircleMarker at 0x7fa79afa0438>,\n",
       " <folium.vector_layers.CircleMarker at 0x7fa79afa04a8>,\n",
       " <folium.vector_layers.CircleMarker at 0x7fa79afa06a0>,\n",
       " <folium.vector_layers.CircleMarker at 0x7fa79b08edd8>,\n",
       " <folium.vector_layers.CircleMarker at 0x7fa79b01a320>,\n",
       " <folium.vector_layers.CircleMarker at 0x7fa79afa0208>,\n",
       " <folium.vector_layers.CircleMarker at 0x7fa79afade80>,\n",
       " <folium.vector_layers.CircleMarker at 0x7fa79afad978>,\n",
       " <folium.vector_layers.CircleMarker at 0x7fa79afad278>,\n",
       " <folium.vector_layers.CircleMarker at 0x7fa79afad160>,\n",
       " <folium.vector_layers.CircleMarker at 0x7fa79afad518>,\n",
       " <folium.vector_layers.CircleMarker at 0x7fa79afad908>,\n",
       " <folium.vector_layers.CircleMarker at 0x7fa79afc05f8>,\n",
       " <folium.vector_layers.CircleMarker at 0x7fa79afc0ba8>,\n",
       " <folium.vector_layers.CircleMarker at 0x7fa79afc0c88>,\n",
       " <folium.vector_layers.CircleMarker at 0x7fa79afc09b0>,\n",
       " <folium.vector_layers.CircleMarker at 0x7fa79afc0898>,\n",
       " <folium.vector_layers.CircleMarker at 0x7fa79afc0cc0>,\n",
       " <folium.vector_layers.CircleMarker at 0x7fa79afc0f98>,\n",
       " <folium.vector_layers.CircleMarker at 0x7fa79afc9128>,\n",
       " <folium.vector_layers.CircleMarker at 0x7fa79afc9710>,\n",
       " <folium.vector_layers.CircleMarker at 0x7fa79afc9908>,\n",
       " <folium.vector_layers.CircleMarker at 0x7fa79afc96d8>,\n",
       " <folium.vector_layers.CircleMarker at 0x7fa79afc97f0>,\n",
       " <folium.vector_layers.CircleMarker at 0x7fa79afb2908>,\n",
       " <folium.vector_layers.CircleMarker at 0x7fa79afb28d0>,\n",
       " <folium.vector_layers.CircleMarker at 0x7fa79afb2c88>,\n",
       " <folium.vector_layers.CircleMarker at 0x7fa79afb2ac8>,\n",
       " <folium.vector_layers.CircleMarker at 0x7fa79afc3e10>,\n",
       " <folium.vector_layers.CircleMarker at 0x7fa79afc35f8>,\n",
       " <folium.vector_layers.CircleMarker at 0x7fa79afc3748>,\n",
       " <folium.vector_layers.CircleMarker at 0x7fa79afc3240>,\n",
       " <folium.vector_layers.CircleMarker at 0x7fa79afc34e0>,\n",
       " <folium.vector_layers.CircleMarker at 0x7fa79afc3518>,\n",
       " <folium.vector_layers.CircleMarker at 0x7fa79afc36a0>,\n",
       " <folium.vector_layers.CircleMarker at 0x7fa79afc3828>,\n",
       " <folium.vector_layers.CircleMarker at 0x7fa79afc3b00>,\n",
       " <folium.vector_layers.CircleMarker at 0x7fa79afc3b70>,\n",
       " <folium.vector_layers.CircleMarker at 0x7fa79afc3d30>,\n",
       " <folium.vector_layers.CircleMarker at 0x7fa79afc3978>,\n",
       " <folium.vector_layers.CircleMarker at 0x7fa79afc37f0>,\n",
       " <folium.vector_layers.CircleMarker at 0x7fa79afc32b0>,\n",
       " <folium.vector_layers.CircleMarker at 0x7fa79afc3320>,\n",
       " <folium.vector_layers.CircleMarker at 0x7fa79afc3630>,\n",
       " <folium.vector_layers.CircleMarker at 0x7fa79afc6f60>,\n",
       " <folium.vector_layers.CircleMarker at 0x7fa79afc6a20>,\n",
       " <folium.vector_layers.CircleMarker at 0x7fa79afc6e10>,\n",
       " <folium.vector_layers.CircleMarker at 0x7fa79afc60b8>,\n",
       " <folium.vector_layers.CircleMarker at 0x7fa79afc66a0>,\n",
       " <folium.vector_layers.CircleMarker at 0x7fa79af5de48>,\n",
       " <folium.vector_layers.CircleMarker at 0x7fa79af5d208>,\n",
       " <folium.vector_layers.CircleMarker at 0x7fa79af5d2e8>,\n",
       " <folium.vector_layers.CircleMarker at 0x7fa79af5d438>,\n",
       " <folium.vector_layers.CircleMarker at 0x7fa79af5d080>,\n",
       " <folium.vector_layers.CircleMarker at 0x7fa79af5d630>,\n",
       " <folium.vector_layers.CircleMarker at 0x7fa79af5d860>,\n",
       " <folium.vector_layers.CircleMarker at 0x7fa79afd5240>,\n",
       " <folium.vector_layers.CircleMarker at 0x7fa79afd57b8>,\n",
       " <folium.vector_layers.CircleMarker at 0x7fa79afd5320>,\n",
       " <folium.vector_layers.CircleMarker at 0x7fa79af59be0>,\n",
       " <folium.vector_layers.CircleMarker at 0x7fa79af59470>,\n",
       " <folium.vector_layers.CircleMarker at 0x7fa79af59e10>,\n",
       " <folium.vector_layers.CircleMarker at 0x7fa79afcccc0>,\n",
       " <folium.vector_layers.CircleMarker at 0x7fa79afccbe0>,\n",
       " <folium.vector_layers.CircleMarker at 0x7fa79afcc2b0>,\n",
       " <folium.vector_layers.CircleMarker at 0x7fa79afcc1d0>,\n",
       " <folium.vector_layers.CircleMarker at 0x7fa79afcc6d8>,\n",
       " <folium.vector_layers.CircleMarker at 0x7fa79afcca20>,\n",
       " <folium.vector_layers.CircleMarker at 0x7fa79afcc320>,\n",
       " <folium.vector_layers.CircleMarker at 0x7fa79afccdd8>,\n",
       " <folium.vector_layers.CircleMarker at 0x7fa79afcff60>,\n",
       " <folium.vector_layers.CircleMarker at 0x7fa79afcf470>,\n",
       " <folium.vector_layers.CircleMarker at 0x7fa79afcf2e8>,\n",
       " <folium.vector_layers.CircleMarker at 0x7fa79afcf710>,\n",
       " <folium.vector_layers.CircleMarker at 0x7fa79afcfe80>,\n",
       " <folium.vector_layers.CircleMarker at 0x7fa79afcfcf8>,\n",
       " <folium.vector_layers.CircleMarker at 0x7fa79afcf908>,\n",
       " <folium.vector_layers.CircleMarker at 0x7fa79afcf358>,\n",
       " <folium.vector_layers.CircleMarker at 0x7fa79afb10f0>,\n",
       " <folium.vector_layers.CircleMarker at 0x7fa79afb1a20>,\n",
       " <folium.vector_layers.CircleMarker at 0x7fa79afb1978>,\n",
       " <folium.vector_layers.CircleMarker at 0x7fa79afb1630>,\n",
       " <folium.vector_layers.CircleMarker at 0x7fa79afb1ef0>,\n",
       " <folium.vector_layers.CircleMarker at 0x7fa79afb1da0>,\n",
       " <folium.vector_layers.CircleMarker at 0x7fa79afb13c8>,\n",
       " <folium.vector_layers.CircleMarker at 0x7fa79afb1e10>,\n",
       " <folium.vector_layers.CircleMarker at 0x7fa79afb1a58>,\n",
       " <folium.vector_layers.CircleMarker at 0x7fa79afb1e80>,\n",
       " <folium.vector_layers.CircleMarker at 0x7fa79afb1f28>,\n",
       " <folium.vector_layers.CircleMarker at 0x7fa79afb14e0>,\n",
       " <folium.vector_layers.CircleMarker at 0x7fa79afb17b8>,\n",
       " <folium.vector_layers.CircleMarker at 0x7fa79afb12e8>,\n",
       " <folium.vector_layers.CircleMarker at 0x7fa79afb1208>,\n",
       " <folium.vector_layers.CircleMarker at 0x7fa79afb1be0>,\n",
       " <folium.vector_layers.CircleMarker at 0x7fa79af6c6a0>,\n",
       " <folium.vector_layers.CircleMarker at 0x7fa79af6cbe0>,\n",
       " <folium.vector_layers.CircleMarker at 0x7fa79af6c048>,\n",
       " <folium.vector_layers.CircleMarker at 0x7fa79af6c0b8>,\n",
       " <folium.vector_layers.CircleMarker at 0x7fa79af6c0f0>,\n",
       " <folium.vector_layers.CircleMarker at 0x7fa79af6c160>,\n",
       " <folium.vector_layers.CircleMarker at 0x7fa79af6c198>,\n",
       " <folium.vector_layers.CircleMarker at 0x7fa79af6c1d0>,\n",
       " <folium.vector_layers.CircleMarker at 0x7fa79af6c208>,\n",
       " <folium.vector_layers.CircleMarker at 0x7fa79af6c240>,\n",
       " <folium.vector_layers.CircleMarker at 0x7fa79af6c278>,\n",
       " <folium.vector_layers.CircleMarker at 0x7fa79af6c2b0>,\n",
       " <folium.vector_layers.CircleMarker at 0x7fa79af6c2e8>,\n",
       " <folium.vector_layers.CircleMarker at 0x7fa79af6c358>,\n",
       " <folium.vector_layers.CircleMarker at 0x7fa79af6c390>,\n",
       " <folium.vector_layers.CircleMarker at 0x7fa79af6c3c8>,\n",
       " <folium.vector_layers.CircleMarker at 0x7fa79af6c400>,\n",
       " <folium.vector_layers.CircleMarker at 0x7fa79af6c438>,\n",
       " <folium.vector_layers.CircleMarker at 0x7fa79af6c470>,\n",
       " <folium.vector_layers.CircleMarker at 0x7fa79af6c4a8>,\n",
       " <folium.vector_layers.CircleMarker at 0x7fa79af6c4e0>,\n",
       " <folium.vector_layers.CircleMarker at 0x7fa79af6c518>,\n",
       " <folium.vector_layers.CircleMarker at 0x7fa79af6c550>,\n",
       " <folium.vector_layers.CircleMarker at 0x7fa79af6c588>,\n",
       " <folium.vector_layers.CircleMarker at 0x7fa79af6c5c0>,\n",
       " <folium.vector_layers.CircleMarker at 0x7fa79af6c5f8>,\n",
       " <folium.vector_layers.CircleMarker at 0x7fa79af6c630>,\n",
       " <folium.vector_layers.CircleMarker at 0x7fa79af6ccc0>,\n",
       " <folium.vector_layers.CircleMarker at 0x7fa79af6c320>,\n",
       " <folium.vector_layers.CircleMarker at 0x7fa79af6c128>,\n",
       " <folium.vector_layers.CircleMarker at 0x7fa79af8c908>,\n",
       " <folium.vector_layers.CircleMarker at 0x7fa79af8cc88>,\n",
       " <folium.vector_layers.CircleMarker at 0x7fa79af8c518>,\n",
       " <folium.vector_layers.CircleMarker at 0x7fa79af8c748>,\n",
       " <folium.vector_layers.CircleMarker at 0x7fa79af8c198>,\n",
       " <folium.vector_layers.CircleMarker at 0x7fa79af8c048>,\n",
       " <folium.vector_layers.CircleMarker at 0x7fa79af8c828>,\n",
       " <folium.vector_layers.CircleMarker at 0x7fa79af8c208>,\n",
       " <folium.vector_layers.CircleMarker at 0x7fa79af8cf28>,\n",
       " <folium.vector_layers.CircleMarker at 0x7fa79af8ccf8>,\n",
       " <folium.vector_layers.CircleMarker at 0x7fa79af8c588>,\n",
       " <folium.vector_layers.CircleMarker at 0x7fa79af8cd30>,\n",
       " <folium.vector_layers.CircleMarker at 0x7fa79af6ba58>,\n",
       " <folium.vector_layers.CircleMarker at 0x7fa79af6bbe0>,\n",
       " <folium.vector_layers.CircleMarker at 0x7fa79af6be10>,\n",
       " <folium.vector_layers.CircleMarker at 0x7fa79af6b0b8>,\n",
       " <folium.vector_layers.CircleMarker at 0x7fa79af6b198>,\n",
       " <folium.vector_layers.CircleMarker at 0x7fa79af6b2b0>,\n",
       " <folium.vector_layers.CircleMarker at 0x7fa79af6b240>,\n",
       " <folium.vector_layers.CircleMarker at 0x7fa79af6b2e8>,\n",
       " <folium.vector_layers.CircleMarker at 0x7fa79af6b320>,\n",
       " <folium.vector_layers.CircleMarker at 0x7fa79af6b358>,\n",
       " <folium.vector_layers.CircleMarker at 0x7fa79af6b390>,\n",
       " <folium.vector_layers.CircleMarker at 0x7fa79af6b3c8>,\n",
       " <folium.vector_layers.CircleMarker at 0x7fa79af6b400>,\n",
       " <folium.vector_layers.CircleMarker at 0x7fa79af6b438>,\n",
       " <folium.vector_layers.CircleMarker at 0x7fa79af6b470>,\n",
       " <folium.vector_layers.CircleMarker at 0x7fa79af6b4a8>,\n",
       " <folium.vector_layers.CircleMarker at 0x7fa79af6b4e0>,\n",
       " <folium.vector_layers.CircleMarker at 0x7fa79af6b518>,\n",
       " <folium.vector_layers.CircleMarker at 0x7fa79af6b5f8>,\n",
       " <folium.vector_layers.CircleMarker at 0x7fa79af6b668>,\n",
       " <folium.vector_layers.CircleMarker at 0x7fa79af6b6d8>,\n",
       " <folium.vector_layers.CircleMarker at 0x7fa79af6b7f0>,\n",
       " <folium.vector_layers.CircleMarker at 0x7fa79af6b780>,\n",
       " <folium.vector_layers.CircleMarker at 0x7fa79af6b828>,\n",
       " <folium.vector_layers.CircleMarker at 0x7fa79af6b860>,\n",
       " <folium.vector_layers.CircleMarker at 0x7fa79af6b898>,\n",
       " <folium.vector_layers.CircleMarker at 0x7fa79af6b8d0>,\n",
       " <folium.vector_layers.CircleMarker at 0x7fa79af6b908>,\n",
       " <folium.vector_layers.CircleMarker at 0x7fa79af6b940>,\n",
       " <folium.vector_layers.CircleMarker at 0x7fa79af6b978>,\n",
       " <folium.vector_layers.CircleMarker at 0x7fa79af6b9b0>,\n",
       " <folium.vector_layers.CircleMarker at 0x7fa79af6b9e8>,\n",
       " <folium.vector_layers.CircleMarker at 0x7fa79af6ba20>,\n",
       " <folium.vector_layers.CircleMarker at 0x7fa79af6ba90>,\n",
       " <folium.vector_layers.CircleMarker at 0x7fa79af6bdd8>,\n",
       " <folium.vector_layers.CircleMarker at 0x7fa79af6bb70>,\n",
       " <folium.vector_layers.CircleMarker at 0x7fa79af8e208>,\n",
       " <folium.vector_layers.CircleMarker at 0x7fa79af8e128>,\n",
       " <folium.vector_layers.CircleMarker at 0x7fa79af8e1d0>,\n",
       " <folium.vector_layers.CircleMarker at 0x7fa79af8e240>,\n",
       " <folium.vector_layers.CircleMarker at 0x7fa79af8e278>,\n",
       " <folium.vector_layers.CircleMarker at 0x7fa79af8e2b0>,\n",
       " <folium.vector_layers.CircleMarker at 0x7fa79af8e2e8>,\n",
       " <folium.vector_layers.CircleMarker at 0x7fa79af8e320>,\n",
       " <folium.vector_layers.CircleMarker at 0x7fa79af8e358>,\n",
       " <folium.vector_layers.CircleMarker at 0x7fa79af8e390>,\n",
       " <folium.vector_layers.CircleMarker at 0x7fa79af8e3c8>,\n",
       " <folium.vector_layers.CircleMarker at 0x7fa79af8e400>,\n",
       " <folium.vector_layers.CircleMarker at 0x7fa79af8e438>,\n",
       " <folium.vector_layers.CircleMarker at 0x7fa79af8e470>,\n",
       " <folium.vector_layers.CircleMarker at 0x7fa79af8e4a8>,\n",
       " <folium.vector_layers.CircleMarker at 0x7fa79af8e4e0>,\n",
       " <folium.vector_layers.CircleMarker at 0x7fa79af8e518>,\n",
       " <folium.vector_layers.CircleMarker at 0x7fa79af8e550>,\n",
       " <folium.vector_layers.CircleMarker at 0x7fa79af8e588>,\n",
       " <folium.vector_layers.CircleMarker at 0x7fa79af8e5c0>,\n",
       " <folium.vector_layers.CircleMarker at 0x7fa79af8e5f8>,\n",
       " <folium.vector_layers.CircleMarker at 0x7fa79af8e630>,\n",
       " <folium.vector_layers.CircleMarker at 0x7fa79af8e668>,\n",
       " <folium.vector_layers.CircleMarker at 0x7fa79af8e6a0>,\n",
       " <folium.vector_layers.CircleMarker at 0x7fa79af8e6d8>,\n",
       " <folium.vector_layers.CircleMarker at 0x7fa79af8e710>,\n",
       " <folium.vector_layers.CircleMarker at 0x7fa79af8e748>,\n",
       " <folium.vector_layers.CircleMarker at 0x7fa79af8e780>,\n",
       " <folium.vector_layers.CircleMarker at 0x7fa79af8e7b8>,\n",
       " <folium.vector_layers.CircleMarker at 0x7fa79af8e7f0>,\n",
       " <folium.vector_layers.CircleMarker at 0x7fa79af8e828>,\n",
       " <folium.vector_layers.CircleMarker at 0x7fa79af8e860>,\n",
       " <folium.vector_layers.CircleMarker at 0x7fa79af8e898>,\n",
       " <folium.vector_layers.CircleMarker at 0x7fa79af8e8d0>,\n",
       " <folium.vector_layers.CircleMarker at 0x7fa79af8e908>,\n",
       " <folium.vector_layers.CircleMarker at 0x7fa79af8e940>,\n",
       " <folium.vector_layers.CircleMarker at 0x7fa79af8e978>,\n",
       " <folium.vector_layers.CircleMarker at 0x7fa79af8e9b0>,\n",
       " <folium.vector_layers.CircleMarker at 0x7fa79af8e9e8>,\n",
       " <folium.vector_layers.CircleMarker at 0x7fa79af8ea20>,\n",
       " <folium.vector_layers.CircleMarker at 0x7fa79af8ea58>,\n",
       " <folium.vector_layers.CircleMarker at 0x7fa79af8ea90>,\n",
       " <folium.vector_layers.CircleMarker at 0x7fa79af8eac8>,\n",
       " <folium.vector_layers.CircleMarker at 0x7fa79af8eb00>,\n",
       " <folium.vector_layers.CircleMarker at 0x7fa79af8eb38>,\n",
       " <folium.vector_layers.CircleMarker at 0x7fa79af8eb70>,\n",
       " <folium.vector_layers.CircleMarker at 0x7fa79af8eba8>,\n",
       " <folium.vector_layers.CircleMarker at 0x7fa79af8ebe0>,\n",
       " <folium.vector_layers.CircleMarker at 0x7fa79af8ec18>,\n",
       " <folium.vector_layers.CircleMarker at 0x7fa79af8ec50>,\n",
       " <folium.vector_layers.CircleMarker at 0x7fa79af8ec88>,\n",
       " <folium.vector_layers.CircleMarker at 0x7fa79af8ecc0>,\n",
       " <folium.vector_layers.CircleMarker at 0x7fa79af8ecf8>,\n",
       " <folium.vector_layers.CircleMarker at 0x7fa79af8ed30>,\n",
       " <folium.vector_layers.CircleMarker at 0x7fa79af8ed68>,\n",
       " <folium.vector_layers.CircleMarker at 0x7fa79af8eda0>,\n",
       " <folium.vector_layers.CircleMarker at 0x7fa79af8edd8>,\n",
       " <folium.vector_layers.CircleMarker at 0x7fa79af8ee10>,\n",
       " <folium.vector_layers.CircleMarker at 0x7fa79af8ee48>,\n",
       " <folium.vector_layers.CircleMarker at 0x7fa79af8ee80>,\n",
       " <folium.vector_layers.CircleMarker at 0x7fa79af8eeb8>,\n",
       " <folium.vector_layers.CircleMarker at 0x7fa79af8eef0>,\n",
       " <folium.vector_layers.CircleMarker at 0x7fa79af8ef28>,\n",
       " <folium.vector_layers.CircleMarker at 0x7fa79af8ef60>,\n",
       " <folium.vector_layers.CircleMarker at 0x7fa79af8ef98>,\n",
       " <folium.vector_layers.CircleMarker at 0x7fa79af8efd0>,\n",
       " <folium.vector_layers.CircleMarker at 0x7fa79af8e048>,\n",
       " <folium.vector_layers.CircleMarker at 0x7fa79aedb080>,\n",
       " <folium.vector_layers.CircleMarker at 0x7fa79aedb0b8>,\n",
       " <folium.vector_layers.CircleMarker at 0x7fa79aedb0f0>,\n",
       " <folium.vector_layers.CircleMarker at 0x7fa79aedb128>,\n",
       " <folium.vector_layers.CircleMarker at 0x7fa79aedb160>,\n",
       " <folium.vector_layers.CircleMarker at 0x7fa79aedb198>,\n",
       " <folium.vector_layers.CircleMarker at 0x7fa79aedb1d0>,\n",
       " <folium.vector_layers.CircleMarker at 0x7fa79aedb208>,\n",
       " <folium.vector_layers.CircleMarker at 0x7fa79aedb240>,\n",
       " <folium.vector_layers.CircleMarker at 0x7fa79aedb278>,\n",
       " <folium.vector_layers.CircleMarker at 0x7fa79aedb2b0>,\n",
       " <folium.vector_layers.CircleMarker at 0x7fa79aedb2e8>,\n",
       " <folium.vector_layers.CircleMarker at 0x7fa79aedb320>,\n",
       " <folium.vector_layers.CircleMarker at 0x7fa79aedb358>,\n",
       " <folium.vector_layers.CircleMarker at 0x7fa79aedb390>,\n",
       " <folium.vector_layers.CircleMarker at 0x7fa79aedb3c8>,\n",
       " <folium.vector_layers.CircleMarker at 0x7fa79aedb400>,\n",
       " <folium.vector_layers.CircleMarker at 0x7fa79aedb438>,\n",
       " <folium.vector_layers.CircleMarker at 0x7fa79aedb470>,\n",
       " <folium.vector_layers.CircleMarker at 0x7fa79aedb4a8>,\n",
       " <folium.vector_layers.CircleMarker at 0x7fa79aedb4e0>,\n",
       " <folium.vector_layers.CircleMarker at 0x7fa79aedb518>,\n",
       " <folium.vector_layers.CircleMarker at 0x7fa79aedb550>,\n",
       " <folium.vector_layers.CircleMarker at 0x7fa79aedb588>,\n",
       " <folium.vector_layers.CircleMarker at 0x7fa79aedb5c0>,\n",
       " <folium.vector_layers.CircleMarker at 0x7fa79aedb5f8>,\n",
       " <folium.vector_layers.CircleMarker at 0x7fa79aedb630>,\n",
       " <folium.vector_layers.CircleMarker at 0x7fa79aedb668>,\n",
       " <folium.vector_layers.CircleMarker at 0x7fa79aedb6a0>,\n",
       " <folium.vector_layers.CircleMarker at 0x7fa79aedb6d8>,\n",
       " <folium.vector_layers.CircleMarker at 0x7fa79aedb710>,\n",
       " <folium.vector_layers.CircleMarker at 0x7fa79aedb748>,\n",
       " <folium.vector_layers.CircleMarker at 0x7fa79aedb780>,\n",
       " <folium.vector_layers.CircleMarker at 0x7fa79aedb7b8>,\n",
       " <folium.vector_layers.CircleMarker at 0x7fa79aedb7f0>,\n",
       " <folium.vector_layers.CircleMarker at 0x7fa79aedb828>,\n",
       " <folium.vector_layers.CircleMarker at 0x7fa79aedb860>,\n",
       " <folium.vector_layers.CircleMarker at 0x7fa79aedb898>,\n",
       " <folium.vector_layers.CircleMarker at 0x7fa79aedb8d0>,\n",
       " <folium.vector_layers.CircleMarker at 0x7fa79aedb908>,\n",
       " <folium.vector_layers.CircleMarker at 0x7fa79aedb940>,\n",
       " <folium.vector_layers.CircleMarker at 0x7fa79aedb978>,\n",
       " <folium.vector_layers.CircleMarker at 0x7fa79aedb9b0>,\n",
       " <folium.vector_layers.CircleMarker at 0x7fa79aedb9e8>,\n",
       " <folium.vector_layers.CircleMarker at 0x7fa79aedba20>,\n",
       " <folium.vector_layers.CircleMarker at 0x7fa79aedba58>,\n",
       " <folium.vector_layers.CircleMarker at 0x7fa79aedba90>,\n",
       " <folium.vector_layers.CircleMarker at 0x7fa79aedbac8>,\n",
       " <folium.vector_layers.CircleMarker at 0x7fa79aedbb00>,\n",
       " <folium.vector_layers.CircleMarker at 0x7fa79aedbb38>,\n",
       " <folium.vector_layers.CircleMarker at 0x7fa79aedbb70>,\n",
       " <folium.vector_layers.CircleMarker at 0x7fa79aedbba8>,\n",
       " <folium.vector_layers.CircleMarker at 0x7fa79aedbbe0>,\n",
       " <folium.vector_layers.CircleMarker at 0x7fa79aedbc18>,\n",
       " <folium.vector_layers.CircleMarker at 0x7fa79aedbc50>,\n",
       " <folium.vector_layers.CircleMarker at 0x7fa79aedbc88>,\n",
       " <folium.vector_layers.CircleMarker at 0x7fa79aedbcc0>,\n",
       " <folium.vector_layers.CircleMarker at 0x7fa79aedbcf8>,\n",
       " <folium.vector_layers.CircleMarker at 0x7fa79aedbd30>,\n",
       " <folium.vector_layers.CircleMarker at 0x7fa79aedbd68>,\n",
       " <folium.vector_layers.CircleMarker at 0x7fa79aedbda0>,\n",
       " <folium.vector_layers.CircleMarker at 0x7fa79aedbdd8>,\n",
       " <folium.vector_layers.CircleMarker at 0x7fa79aedbe10>,\n",
       " <folium.vector_layers.CircleMarker at 0x7fa79aedbe48>,\n",
       " <folium.vector_layers.CircleMarker at 0x7fa79aedbe80>,\n",
       " <folium.vector_layers.CircleMarker at 0x7fa79aedbeb8>,\n",
       " <folium.vector_layers.CircleMarker at 0x7fa79aedbef0>,\n",
       " <folium.vector_layers.CircleMarker at 0x7fa79aedbf28>,\n",
       " <folium.vector_layers.CircleMarker at 0x7fa79aedbf60>,\n",
       " <folium.vector_layers.CircleMarker at 0x7fa79aedbf98>,\n",
       " <folium.vector_layers.CircleMarker at 0x7fa79aedbfd0>,\n",
       " <folium.vector_layers.CircleMarker at 0x7fa79aedb048>,\n",
       " <folium.vector_layers.CircleMarker at 0x7fa79aee9080>,\n",
       " <folium.vector_layers.CircleMarker at 0x7fa79aee90b8>,\n",
       " <folium.vector_layers.CircleMarker at 0x7fa79aee90f0>,\n",
       " <folium.vector_layers.CircleMarker at 0x7fa79aee9128>,\n",
       " <folium.vector_layers.CircleMarker at 0x7fa79aee9160>,\n",
       " <folium.vector_layers.CircleMarker at 0x7fa79aee9198>,\n",
       " <folium.vector_layers.CircleMarker at 0x7fa79aee91d0>,\n",
       " <folium.vector_layers.CircleMarker at 0x7fa79aee9208>,\n",
       " <folium.vector_layers.CircleMarker at 0x7fa79aee9240>,\n",
       " <folium.vector_layers.CircleMarker at 0x7fa79aee9278>,\n",
       " <folium.vector_layers.CircleMarker at 0x7fa79aee92b0>,\n",
       " <folium.vector_layers.CircleMarker at 0x7fa79aee92e8>,\n",
       " <folium.vector_layers.CircleMarker at 0x7fa79aee9320>,\n",
       " <folium.vector_layers.CircleMarker at 0x7fa79aee9358>,\n",
       " <folium.vector_layers.CircleMarker at 0x7fa79aee9390>,\n",
       " <folium.vector_layers.CircleMarker at 0x7fa79aee93c8>,\n",
       " <folium.vector_layers.CircleMarker at 0x7fa79aee9400>,\n",
       " <folium.vector_layers.CircleMarker at 0x7fa79aee9438>,\n",
       " <folium.vector_layers.CircleMarker at 0x7fa79aee9470>,\n",
       " <folium.vector_layers.CircleMarker at 0x7fa79aee94a8>,\n",
       " <folium.vector_layers.CircleMarker at 0x7fa79aee94e0>,\n",
       " <folium.vector_layers.CircleMarker at 0x7fa79aee9518>,\n",
       " <folium.vector_layers.CircleMarker at 0x7fa79aee9550>,\n",
       " <folium.vector_layers.CircleMarker at 0x7fa79aee9588>,\n",
       " <folium.vector_layers.CircleMarker at 0x7fa79aee95c0>,\n",
       " <folium.vector_layers.CircleMarker at 0x7fa79aee95f8>,\n",
       " <folium.vector_layers.CircleMarker at 0x7fa79aee9630>,\n",
       " <folium.vector_layers.CircleMarker at 0x7fa79aee9668>,\n",
       " <folium.vector_layers.CircleMarker at 0x7fa79aee96a0>,\n",
       " <folium.vector_layers.CircleMarker at 0x7fa79aee96d8>,\n",
       " <folium.vector_layers.CircleMarker at 0x7fa79aee9710>,\n",
       " <folium.vector_layers.CircleMarker at 0x7fa79aee9748>,\n",
       " <folium.vector_layers.CircleMarker at 0x7fa79aee9780>,\n",
       " <folium.vector_layers.CircleMarker at 0x7fa79aee97b8>,\n",
       " <folium.vector_layers.CircleMarker at 0x7fa79aee97f0>,\n",
       " <folium.vector_layers.CircleMarker at 0x7fa79aee9828>,\n",
       " <folium.vector_layers.CircleMarker at 0x7fa79aee9860>,\n",
       " <folium.vector_layers.CircleMarker at 0x7fa79aee9898>,\n",
       " <folium.vector_layers.CircleMarker at 0x7fa79aee98d0>,\n",
       " <folium.vector_layers.CircleMarker at 0x7fa79aee9908>,\n",
       " <folium.vector_layers.CircleMarker at 0x7fa79aee9940>,\n",
       " <folium.vector_layers.CircleMarker at 0x7fa79aee9978>,\n",
       " <folium.vector_layers.CircleMarker at 0x7fa79aee99b0>,\n",
       " <folium.vector_layers.CircleMarker at 0x7fa79aee99e8>,\n",
       " <folium.vector_layers.CircleMarker at 0x7fa79aee9a20>,\n",
       " <folium.vector_layers.CircleMarker at 0x7fa79aee9a58>,\n",
       " <folium.vector_layers.CircleMarker at 0x7fa79aee9a90>,\n",
       " <folium.vector_layers.CircleMarker at 0x7fa79aee9ac8>,\n",
       " <folium.vector_layers.CircleMarker at 0x7fa79aee9b00>,\n",
       " <folium.vector_layers.CircleMarker at 0x7fa79aee9b38>,\n",
       " <folium.vector_layers.CircleMarker at 0x7fa79aee9b70>,\n",
       " <folium.vector_layers.CircleMarker at 0x7fa79aee9ba8>,\n",
       " <folium.vector_layers.CircleMarker at 0x7fa79aee9be0>,\n",
       " <folium.vector_layers.CircleMarker at 0x7fa79aee9c18>,\n",
       " <folium.vector_layers.CircleMarker at 0x7fa79aee9c50>,\n",
       " <folium.vector_layers.CircleMarker at 0x7fa79aee9c88>,\n",
       " <folium.vector_layers.CircleMarker at 0x7fa79aee9cc0>,\n",
       " <folium.vector_layers.CircleMarker at 0x7fa79aee9cf8>,\n",
       " <folium.vector_layers.CircleMarker at 0x7fa79aee9d30>,\n",
       " <folium.vector_layers.CircleMarker at 0x7fa79aee9d68>,\n",
       " <folium.vector_layers.CircleMarker at 0x7fa79aee9da0>,\n",
       " <folium.vector_layers.CircleMarker at 0x7fa79aee9dd8>,\n",
       " <folium.vector_layers.CircleMarker at 0x7fa79aee9e10>,\n",
       " <folium.vector_layers.CircleMarker at 0x7fa79aee9e48>,\n",
       " <folium.vector_layers.CircleMarker at 0x7fa79aee9e80>,\n",
       " <folium.vector_layers.CircleMarker at 0x7fa79aee9eb8>,\n",
       " <folium.vector_layers.CircleMarker at 0x7fa79aee9ef0>,\n",
       " <folium.vector_layers.CircleMarker at 0x7fa79aee9f28>,\n",
       " <folium.vector_layers.CircleMarker at 0x7fa79aee9f60>,\n",
       " <folium.vector_layers.CircleMarker at 0x7fa79aee9f98>,\n",
       " <folium.vector_layers.CircleMarker at 0x7fa79aee9fd0>,\n",
       " <folium.vector_layers.CircleMarker at 0x7fa79aee9048>,\n",
       " <folium.vector_layers.CircleMarker at 0x7fa79aef6080>,\n",
       " <folium.vector_layers.CircleMarker at 0x7fa79aef60b8>,\n",
       " <folium.vector_layers.CircleMarker at 0x7fa79aef60f0>,\n",
       " <folium.vector_layers.CircleMarker at 0x7fa79aef6128>,\n",
       " <folium.vector_layers.CircleMarker at 0x7fa79aef6160>,\n",
       " <folium.vector_layers.CircleMarker at 0x7fa79aef6198>,\n",
       " <folium.vector_layers.CircleMarker at 0x7fa79aef61d0>,\n",
       " <folium.vector_layers.CircleMarker at 0x7fa79aef6208>,\n",
       " <folium.vector_layers.CircleMarker at 0x7fa79aef6240>,\n",
       " <folium.vector_layers.CircleMarker at 0x7fa79aef6278>,\n",
       " <folium.vector_layers.CircleMarker at 0x7fa79aef62b0>,\n",
       " <folium.vector_layers.CircleMarker at 0x7fa79aef62e8>,\n",
       " <folium.vector_layers.CircleMarker at 0x7fa79aef6320>,\n",
       " <folium.vector_layers.CircleMarker at 0x7fa79aef6358>,\n",
       " <folium.vector_layers.CircleMarker at 0x7fa79aef6390>,\n",
       " <folium.vector_layers.CircleMarker at 0x7fa79aef63c8>,\n",
       " <folium.vector_layers.CircleMarker at 0x7fa79aef6400>,\n",
       " <folium.vector_layers.CircleMarker at 0x7fa79aef6438>,\n",
       " <folium.vector_layers.CircleMarker at 0x7fa79aef6470>,\n",
       " <folium.vector_layers.CircleMarker at 0x7fa79aef64a8>,\n",
       " <folium.vector_layers.CircleMarker at 0x7fa79aef64e0>,\n",
       " <folium.vector_layers.CircleMarker at 0x7fa79aef6518>,\n",
       " <folium.vector_layers.CircleMarker at 0x7fa79aef6550>,\n",
       " <folium.vector_layers.CircleMarker at 0x7fa79aef6588>,\n",
       " <folium.vector_layers.CircleMarker at 0x7fa79aef65c0>,\n",
       " <folium.vector_layers.CircleMarker at 0x7fa79aef65f8>,\n",
       " <folium.vector_layers.CircleMarker at 0x7fa79aef6630>,\n",
       " <folium.vector_layers.CircleMarker at 0x7fa79aef6668>,\n",
       " <folium.vector_layers.CircleMarker at 0x7fa79aef66a0>,\n",
       " <folium.vector_layers.CircleMarker at 0x7fa79aef66d8>,\n",
       " <folium.vector_layers.CircleMarker at 0x7fa79aef6710>,\n",
       " <folium.vector_layers.CircleMarker at 0x7fa79aef6748>,\n",
       " <folium.vector_layers.CircleMarker at 0x7fa79aef6780>,\n",
       " <folium.vector_layers.CircleMarker at 0x7fa79aef67b8>,\n",
       " <folium.vector_layers.CircleMarker at 0x7fa79aef67f0>,\n",
       " <folium.vector_layers.CircleMarker at 0x7fa79aef6828>,\n",
       " <folium.vector_layers.CircleMarker at 0x7fa79aef6860>,\n",
       " <folium.vector_layers.CircleMarker at 0x7fa79aef6898>,\n",
       " <folium.vector_layers.CircleMarker at 0x7fa79aef68d0>,\n",
       " <folium.vector_layers.CircleMarker at 0x7fa79aef6908>,\n",
       " <folium.vector_layers.CircleMarker at 0x7fa79aef6940>,\n",
       " <folium.vector_layers.CircleMarker at 0x7fa79aef6978>,\n",
       " <folium.vector_layers.CircleMarker at 0x7fa79aef69b0>,\n",
       " <folium.vector_layers.CircleMarker at 0x7fa79aef69e8>,\n",
       " <folium.vector_layers.CircleMarker at 0x7fa79aef6a20>,\n",
       " <folium.vector_layers.CircleMarker at 0x7fa79aef6a58>,\n",
       " <folium.vector_layers.CircleMarker at 0x7fa79aef6a90>,\n",
       " <folium.vector_layers.CircleMarker at 0x7fa79aef6ac8>,\n",
       " <folium.vector_layers.CircleMarker at 0x7fa79aef6b00>,\n",
       " <folium.vector_layers.CircleMarker at 0x7fa79aef6b38>,\n",
       " <folium.vector_layers.CircleMarker at 0x7fa79aef6b70>,\n",
       " <folium.vector_layers.CircleMarker at 0x7fa79aef6ba8>,\n",
       " <folium.vector_layers.CircleMarker at 0x7fa79aef6be0>,\n",
       " <folium.vector_layers.CircleMarker at 0x7fa79aef6c18>,\n",
       " <folium.vector_layers.CircleMarker at 0x7fa79aef6c50>,\n",
       " <folium.vector_layers.CircleMarker at 0x7fa79aef6c88>,\n",
       " <folium.vector_layers.CircleMarker at 0x7fa79aef6cc0>,\n",
       " <folium.vector_layers.CircleMarker at 0x7fa79aef6cf8>,\n",
       " <folium.vector_layers.CircleMarker at 0x7fa79aef6d30>,\n",
       " <folium.vector_layers.CircleMarker at 0x7fa79aef6d68>,\n",
       " <folium.vector_layers.CircleMarker at 0x7fa79aef6da0>,\n",
       " <folium.vector_layers.CircleMarker at 0x7fa79aef6dd8>,\n",
       " <folium.vector_layers.CircleMarker at 0x7fa79aef6e10>,\n",
       " <folium.vector_layers.CircleMarker at 0x7fa79aef6e48>,\n",
       " <folium.vector_layers.CircleMarker at 0x7fa79aef6e80>,\n",
       " <folium.vector_layers.CircleMarker at 0x7fa79aef6eb8>,\n",
       " <folium.vector_layers.CircleMarker at 0x7fa79aef6ef0>,\n",
       " <folium.vector_layers.CircleMarker at 0x7fa79aef6f28>,\n",
       " <folium.vector_layers.CircleMarker at 0x7fa79aef6f60>,\n",
       " <folium.vector_layers.CircleMarker at 0x7fa79aef6f98>,\n",
       " <folium.vector_layers.CircleMarker at 0x7fa79aef6fd0>,\n",
       " <folium.vector_layers.CircleMarker at 0x7fa79aef6048>,\n",
       " <folium.vector_layers.CircleMarker at 0x7fa79af05080>,\n",
       " <folium.vector_layers.CircleMarker at 0x7fa79af050b8>,\n",
       " <folium.vector_layers.CircleMarker at 0x7fa79af050f0>,\n",
       " <folium.vector_layers.CircleMarker at 0x7fa79af05128>,\n",
       " <folium.vector_layers.CircleMarker at 0x7fa79af05160>,\n",
       " <folium.vector_layers.CircleMarker at 0x7fa79af05198>,\n",
       " <folium.vector_layers.CircleMarker at 0x7fa79af051d0>,\n",
       " <folium.vector_layers.CircleMarker at 0x7fa79af05208>,\n",
       " <folium.vector_layers.CircleMarker at 0x7fa79af05240>,\n",
       " <folium.vector_layers.CircleMarker at 0x7fa79af05278>,\n",
       " <folium.vector_layers.CircleMarker at 0x7fa79af052b0>,\n",
       " <folium.vector_layers.CircleMarker at 0x7fa79af052e8>,\n",
       " <folium.vector_layers.CircleMarker at 0x7fa79af05320>,\n",
       " <folium.vector_layers.CircleMarker at 0x7fa79af05358>,\n",
       " <folium.vector_layers.CircleMarker at 0x7fa79af05390>,\n",
       " <folium.vector_layers.CircleMarker at 0x7fa79af053c8>,\n",
       " <folium.vector_layers.CircleMarker at 0x7fa79af05400>,\n",
       " <folium.vector_layers.CircleMarker at 0x7fa79af05438>,\n",
       " <folium.vector_layers.CircleMarker at 0x7fa79af05470>,\n",
       " <folium.vector_layers.CircleMarker at 0x7fa79af054a8>,\n",
       " <folium.vector_layers.CircleMarker at 0x7fa79af054e0>,\n",
       " <folium.vector_layers.CircleMarker at 0x7fa79af05518>,\n",
       " <folium.vector_layers.CircleMarker at 0x7fa79af05550>,\n",
       " <folium.vector_layers.CircleMarker at 0x7fa79af05588>,\n",
       " <folium.vector_layers.CircleMarker at 0x7fa79af055c0>,\n",
       " <folium.vector_layers.CircleMarker at 0x7fa79af055f8>,\n",
       " <folium.vector_layers.CircleMarker at 0x7fa79af05630>,\n",
       " <folium.vector_layers.CircleMarker at 0x7fa79af05668>,\n",
       " <folium.vector_layers.CircleMarker at 0x7fa79af056a0>,\n",
       " <folium.vector_layers.CircleMarker at 0x7fa79af056d8>,\n",
       " <folium.vector_layers.CircleMarker at 0x7fa79af05710>,\n",
       " <folium.vector_layers.CircleMarker at 0x7fa79af05748>,\n",
       " <folium.vector_layers.CircleMarker at 0x7fa79af05780>,\n",
       " <folium.vector_layers.CircleMarker at 0x7fa79af057b8>,\n",
       " <folium.vector_layers.CircleMarker at 0x7fa79af057f0>,\n",
       " <folium.vector_layers.CircleMarker at 0x7fa79af05828>,\n",
       " <folium.vector_layers.CircleMarker at 0x7fa79af05860>,\n",
       " <folium.vector_layers.CircleMarker at 0x7fa79af05898>,\n",
       " <folium.vector_layers.CircleMarker at 0x7fa79af058d0>,\n",
       " <folium.vector_layers.CircleMarker at 0x7fa79af05908>,\n",
       " <folium.vector_layers.CircleMarker at 0x7fa79af05940>,\n",
       " <folium.vector_layers.CircleMarker at 0x7fa79af05978>,\n",
       " <folium.vector_layers.CircleMarker at 0x7fa79af059b0>,\n",
       " <folium.vector_layers.CircleMarker at 0x7fa79af059e8>,\n",
       " <folium.vector_layers.CircleMarker at 0x7fa79af05a20>,\n",
       " <folium.vector_layers.CircleMarker at 0x7fa79af05a58>,\n",
       " <folium.vector_layers.CircleMarker at 0x7fa79af05a90>,\n",
       " <folium.vector_layers.CircleMarker at 0x7fa79af05ac8>,\n",
       " <folium.vector_layers.CircleMarker at 0x7fa79af05b00>,\n",
       " <folium.vector_layers.CircleMarker at 0x7fa79af05b38>,\n",
       " <folium.vector_layers.CircleMarker at 0x7fa79af05b70>,\n",
       " <folium.vector_layers.CircleMarker at 0x7fa79af05ba8>,\n",
       " <folium.vector_layers.CircleMarker at 0x7fa79af05be0>,\n",
       " <folium.vector_layers.CircleMarker at 0x7fa79af05c18>,\n",
       " <folium.vector_layers.CircleMarker at 0x7fa79af05c50>,\n",
       " <folium.vector_layers.CircleMarker at 0x7fa79af05c88>,\n",
       " <folium.vector_layers.CircleMarker at 0x7fa79af05cc0>,\n",
       " <folium.vector_layers.CircleMarker at 0x7fa79af05cf8>,\n",
       " <folium.vector_layers.CircleMarker at 0x7fa79af05d30>,\n",
       " <folium.vector_layers.CircleMarker at 0x7fa79af05d68>,\n",
       " <folium.vector_layers.CircleMarker at 0x7fa79af05da0>,\n",
       " <folium.vector_layers.CircleMarker at 0x7fa79af05dd8>,\n",
       " <folium.vector_layers.CircleMarker at 0x7fa79af05e10>,\n",
       " <folium.vector_layers.CircleMarker at 0x7fa79af05e48>,\n",
       " <folium.vector_layers.CircleMarker at 0x7fa79af05e80>,\n",
       " <folium.vector_layers.CircleMarker at 0x7fa79af05eb8>,\n",
       " <folium.vector_layers.CircleMarker at 0x7fa79af05ef0>,\n",
       " <folium.vector_layers.CircleMarker at 0x7fa79af05f28>,\n",
       " <folium.vector_layers.CircleMarker at 0x7fa79af05f60>,\n",
       " <folium.vector_layers.CircleMarker at 0x7fa79af05f98>,\n",
       " <folium.vector_layers.CircleMarker at 0x7fa79af05fd0>,\n",
       " <folium.vector_layers.CircleMarker at 0x7fa79af05048>,\n",
       " <folium.vector_layers.CircleMarker at 0x7fa79af13080>,\n",
       " <folium.vector_layers.CircleMarker at 0x7fa79af130b8>,\n",
       " <folium.vector_layers.CircleMarker at 0x7fa79af130f0>,\n",
       " <folium.vector_layers.CircleMarker at 0x7fa79af13128>,\n",
       " <folium.vector_layers.CircleMarker at 0x7fa79af13160>,\n",
       " <folium.vector_layers.CircleMarker at 0x7fa79af13198>,\n",
       " <folium.vector_layers.CircleMarker at 0x7fa79af131d0>,\n",
       " <folium.vector_layers.CircleMarker at 0x7fa79af13208>,\n",
       " <folium.vector_layers.CircleMarker at 0x7fa79af13240>,\n",
       " <folium.vector_layers.CircleMarker at 0x7fa79af13278>,\n",
       " <folium.vector_layers.CircleMarker at 0x7fa79af132b0>,\n",
       " <folium.vector_layers.CircleMarker at 0x7fa79af132e8>,\n",
       " <folium.vector_layers.CircleMarker at 0x7fa79af13320>,\n",
       " <folium.vector_layers.CircleMarker at 0x7fa79af13358>,\n",
       " <folium.vector_layers.CircleMarker at 0x7fa79af13390>,\n",
       " <folium.vector_layers.CircleMarker at 0x7fa79af133c8>,\n",
       " <folium.vector_layers.CircleMarker at 0x7fa79af13400>,\n",
       " <folium.vector_layers.CircleMarker at 0x7fa79af13438>,\n",
       " <folium.vector_layers.CircleMarker at 0x7fa79af13470>,\n",
       " <folium.vector_layers.CircleMarker at 0x7fa79af134a8>,\n",
       " <folium.vector_layers.CircleMarker at 0x7fa79af134e0>,\n",
       " <folium.vector_layers.CircleMarker at 0x7fa79af13518>,\n",
       " <folium.vector_layers.CircleMarker at 0x7fa79af13550>,\n",
       " <folium.vector_layers.CircleMarker at 0x7fa79af13588>,\n",
       " <folium.vector_layers.CircleMarker at 0x7fa79af135c0>,\n",
       " <folium.vector_layers.CircleMarker at 0x7fa79af135f8>,\n",
       " <folium.vector_layers.CircleMarker at 0x7fa79af13630>,\n",
       " <folium.vector_layers.CircleMarker at 0x7fa79af13668>,\n",
       " <folium.vector_layers.CircleMarker at 0x7fa79af136a0>,\n",
       " <folium.vector_layers.CircleMarker at 0x7fa79af136d8>,\n",
       " <folium.vector_layers.CircleMarker at 0x7fa79af13710>,\n",
       " <folium.vector_layers.CircleMarker at 0x7fa79af13748>,\n",
       " <folium.vector_layers.CircleMarker at 0x7fa79af13780>,\n",
       " <folium.vector_layers.CircleMarker at 0x7fa79af137b8>,\n",
       " <folium.vector_layers.CircleMarker at 0x7fa79af137f0>,\n",
       " <folium.vector_layers.CircleMarker at 0x7fa79af13828>,\n",
       " <folium.vector_layers.CircleMarker at 0x7fa79af13860>,\n",
       " <folium.vector_layers.CircleMarker at 0x7fa79af13898>,\n",
       " <folium.vector_layers.CircleMarker at 0x7fa79af138d0>,\n",
       " <folium.vector_layers.CircleMarker at 0x7fa79af13908>,\n",
       " <folium.vector_layers.CircleMarker at 0x7fa79af13940>,\n",
       " <folium.vector_layers.CircleMarker at 0x7fa79af13978>,\n",
       " <folium.vector_layers.CircleMarker at 0x7fa79af139b0>,\n",
       " <folium.vector_layers.CircleMarker at 0x7fa79af139e8>,\n",
       " <folium.vector_layers.CircleMarker at 0x7fa79af13a20>,\n",
       " <folium.vector_layers.CircleMarker at 0x7fa79af13a58>,\n",
       " <folium.vector_layers.CircleMarker at 0x7fa79af13a90>,\n",
       " <folium.vector_layers.CircleMarker at 0x7fa79af13ac8>,\n",
       " <folium.vector_layers.CircleMarker at 0x7fa79af13b00>,\n",
       " <folium.vector_layers.CircleMarker at 0x7fa79af13b38>,\n",
       " <folium.vector_layers.CircleMarker at 0x7fa79af13b70>,\n",
       " <folium.vector_layers.CircleMarker at 0x7fa79af13ba8>,\n",
       " <folium.vector_layers.CircleMarker at 0x7fa79af13be0>,\n",
       " <folium.vector_layers.CircleMarker at 0x7fa79af13c18>,\n",
       " <folium.vector_layers.CircleMarker at 0x7fa79af13c50>,\n",
       " <folium.vector_layers.CircleMarker at 0x7fa79af13c88>,\n",
       " <folium.vector_layers.CircleMarker at 0x7fa79af13cc0>,\n",
       " <folium.vector_layers.CircleMarker at 0x7fa79af13cf8>,\n",
       " <folium.vector_layers.CircleMarker at 0x7fa79af13d30>,\n",
       " <folium.vector_layers.CircleMarker at 0x7fa79af13d68>,\n",
       " <folium.vector_layers.CircleMarker at 0x7fa79af13da0>,\n",
       " <folium.vector_layers.CircleMarker at 0x7fa79af13dd8>,\n",
       " <folium.vector_layers.CircleMarker at 0x7fa79af13e10>,\n",
       " <folium.vector_layers.CircleMarker at 0x7fa79af13e48>,\n",
       " <folium.vector_layers.CircleMarker at 0x7fa79af13e80>,\n",
       " <folium.vector_layers.CircleMarker at 0x7fa79af13eb8>,\n",
       " <folium.vector_layers.CircleMarker at 0x7fa79af13ef0>,\n",
       " <folium.vector_layers.CircleMarker at 0x7fa79af13f28>,\n",
       " <folium.vector_layers.CircleMarker at 0x7fa79af13f60>,\n",
       " <folium.vector_layers.CircleMarker at 0x7fa79af13f98>,\n",
       " <folium.vector_layers.CircleMarker at 0x7fa79af13fd0>,\n",
       " <folium.vector_layers.CircleMarker at 0x7fa79af13048>,\n",
       " <folium.vector_layers.CircleMarker at 0x7fa79aea1080>,\n",
       " <folium.vector_layers.CircleMarker at 0x7fa79aea10b8>,\n",
       " <folium.vector_layers.CircleMarker at 0x7fa79aea10f0>,\n",
       " <folium.vector_layers.CircleMarker at 0x7fa79aea1128>,\n",
       " <folium.vector_layers.CircleMarker at 0x7fa79aea1160>,\n",
       " <folium.vector_layers.CircleMarker at 0x7fa79aea1198>,\n",
       " <folium.vector_layers.CircleMarker at 0x7fa79aea11d0>,\n",
       " <folium.vector_layers.CircleMarker at 0x7fa79aea1208>,\n",
       " <folium.vector_layers.CircleMarker at 0x7fa79aea1240>,\n",
       " <folium.vector_layers.CircleMarker at 0x7fa79aea1278>,\n",
       " <folium.vector_layers.CircleMarker at 0x7fa79aea12b0>,\n",
       " <folium.vector_layers.CircleMarker at 0x7fa79aea12e8>,\n",
       " <folium.vector_layers.CircleMarker at 0x7fa79aea1320>,\n",
       " <folium.vector_layers.CircleMarker at 0x7fa79aea1358>,\n",
       " <folium.vector_layers.CircleMarker at 0x7fa79aea1390>,\n",
       " <folium.vector_layers.CircleMarker at 0x7fa79aea13c8>,\n",
       " <folium.vector_layers.CircleMarker at 0x7fa79aea1400>,\n",
       " <folium.vector_layers.CircleMarker at 0x7fa79aea1438>,\n",
       " <folium.vector_layers.CircleMarker at 0x7fa79aea1470>,\n",
       " <folium.vector_layers.CircleMarker at 0x7fa79aea14a8>,\n",
       " <folium.vector_layers.CircleMarker at 0x7fa79aea14e0>,\n",
       " <folium.vector_layers.CircleMarker at 0x7fa79aea1518>,\n",
       " <folium.vector_layers.CircleMarker at 0x7fa79aea1550>,\n",
       " <folium.vector_layers.CircleMarker at 0x7fa79aea1588>,\n",
       " <folium.vector_layers.CircleMarker at 0x7fa79aea15c0>,\n",
       " <folium.vector_layers.CircleMarker at 0x7fa79aea15f8>,\n",
       " <folium.vector_layers.CircleMarker at 0x7fa79aea1630>,\n",
       " <folium.vector_layers.CircleMarker at 0x7fa79aea1668>,\n",
       " <folium.vector_layers.CircleMarker at 0x7fa79aea16a0>,\n",
       " <folium.vector_layers.CircleMarker at 0x7fa79aea16d8>,\n",
       " <folium.vector_layers.CircleMarker at 0x7fa79aea1710>,\n",
       " <folium.vector_layers.CircleMarker at 0x7fa79aea1748>,\n",
       " <folium.vector_layers.CircleMarker at 0x7fa79aea1780>,\n",
       " <folium.vector_layers.CircleMarker at 0x7fa79aea17b8>,\n",
       " <folium.vector_layers.CircleMarker at 0x7fa79aea17f0>,\n",
       " <folium.vector_layers.CircleMarker at 0x7fa79aea1828>,\n",
       " <folium.vector_layers.CircleMarker at 0x7fa79aea1860>,\n",
       " <folium.vector_layers.CircleMarker at 0x7fa79aea1898>,\n",
       " <folium.vector_layers.CircleMarker at 0x7fa79aea18d0>,\n",
       " <folium.vector_layers.CircleMarker at 0x7fa79aea1908>,\n",
       " <folium.vector_layers.CircleMarker at 0x7fa79aea1940>,\n",
       " <folium.vector_layers.CircleMarker at 0x7fa79aea1978>,\n",
       " <folium.vector_layers.CircleMarker at 0x7fa79aea19b0>,\n",
       " <folium.vector_layers.CircleMarker at 0x7fa79aea19e8>,\n",
       " <folium.vector_layers.CircleMarker at 0x7fa79aea1a20>,\n",
       " <folium.vector_layers.CircleMarker at 0x7fa79aea1a58>,\n",
       " <folium.vector_layers.CircleMarker at 0x7fa79aea1a90>,\n",
       " <folium.vector_layers.CircleMarker at 0x7fa79aea1ac8>,\n",
       " <folium.vector_layers.CircleMarker at 0x7fa79aea1b00>,\n",
       " <folium.vector_layers.CircleMarker at 0x7fa79aea1b38>,\n",
       " <folium.vector_layers.CircleMarker at 0x7fa79aea1b70>,\n",
       " <folium.vector_layers.CircleMarker at 0x7fa79aea1ba8>,\n",
       " <folium.vector_layers.CircleMarker at 0x7fa79aea1be0>,\n",
       " <folium.vector_layers.CircleMarker at 0x7fa79aea1c18>,\n",
       " <folium.vector_layers.CircleMarker at 0x7fa79aea1c50>,\n",
       " <folium.vector_layers.CircleMarker at 0x7fa79aea1c88>,\n",
       " <folium.vector_layers.CircleMarker at 0x7fa79aea1cc0>,\n",
       " <folium.vector_layers.CircleMarker at 0x7fa79aea1cf8>,\n",
       " <folium.vector_layers.CircleMarker at 0x7fa79aea1d30>,\n",
       " <folium.vector_layers.CircleMarker at 0x7fa79aea1d68>,\n",
       " <folium.vector_layers.CircleMarker at 0x7fa79aea1da0>,\n",
       " <folium.vector_layers.CircleMarker at 0x7fa79aea1dd8>,\n",
       " <folium.vector_layers.CircleMarker at 0x7fa79aea1e10>,\n",
       " <folium.vector_layers.CircleMarker at 0x7fa79aea1e48>,\n",
       " <folium.vector_layers.CircleMarker at 0x7fa79aea1e80>,\n",
       " <folium.vector_layers.CircleMarker at 0x7fa79aea1eb8>,\n",
       " <folium.vector_layers.CircleMarker at 0x7fa79aea1ef0>,\n",
       " <folium.vector_layers.CircleMarker at 0x7fa79aea1f28>,\n",
       " <folium.vector_layers.CircleMarker at 0x7fa79aea1f60>,\n",
       " <folium.vector_layers.CircleMarker at 0x7fa79aea1f98>,\n",
       " <folium.vector_layers.CircleMarker at 0x7fa79aea1fd0>,\n",
       " <folium.vector_layers.CircleMarker at 0x7fa79aea1048>,\n",
       " <folium.vector_layers.CircleMarker at 0x7fa79aeae080>,\n",
       " <folium.vector_layers.CircleMarker at 0x7fa79aeae0b8>,\n",
       " <folium.vector_layers.CircleMarker at 0x7fa79aeae0f0>,\n",
       " <folium.vector_layers.CircleMarker at 0x7fa79aeae128>,\n",
       " <folium.vector_layers.CircleMarker at 0x7fa79aeae160>,\n",
       " <folium.vector_layers.CircleMarker at 0x7fa79aeae198>,\n",
       " <folium.vector_layers.CircleMarker at 0x7fa79aeae1d0>,\n",
       " <folium.vector_layers.CircleMarker at 0x7fa79aeae208>,\n",
       " <folium.vector_layers.CircleMarker at 0x7fa79aeae240>,\n",
       " <folium.vector_layers.CircleMarker at 0x7fa79aeae278>,\n",
       " <folium.vector_layers.CircleMarker at 0x7fa79aeae2b0>,\n",
       " <folium.vector_layers.CircleMarker at 0x7fa79aeae2e8>,\n",
       " <folium.vector_layers.CircleMarker at 0x7fa79aeae320>,\n",
       " <folium.vector_layers.CircleMarker at 0x7fa79aeae358>,\n",
       " <folium.vector_layers.CircleMarker at 0x7fa79aeae390>,\n",
       " <folium.vector_layers.CircleMarker at 0x7fa79aeae3c8>,\n",
       " <folium.vector_layers.CircleMarker at 0x7fa79aeae400>,\n",
       " <folium.vector_layers.CircleMarker at 0x7fa79aeae438>,\n",
       " <folium.vector_layers.CircleMarker at 0x7fa79aeae470>,\n",
       " <folium.vector_layers.CircleMarker at 0x7fa79aeae4a8>,\n",
       " <folium.vector_layers.CircleMarker at 0x7fa79aeae4e0>,\n",
       " <folium.vector_layers.CircleMarker at 0x7fa79aeae518>,\n",
       " <folium.vector_layers.CircleMarker at 0x7fa79aeae550>,\n",
       " <folium.vector_layers.CircleMarker at 0x7fa79aeae588>,\n",
       " <folium.vector_layers.CircleMarker at 0x7fa79aeae5c0>,\n",
       " <folium.vector_layers.CircleMarker at 0x7fa79aeae5f8>,\n",
       " <folium.vector_layers.CircleMarker at 0x7fa79aeae630>,\n",
       " <folium.vector_layers.CircleMarker at 0x7fa79aeae668>,\n",
       " <folium.vector_layers.CircleMarker at 0x7fa79aeae6a0>,\n",
       " <folium.vector_layers.CircleMarker at 0x7fa79aeae6d8>,\n",
       " <folium.vector_layers.CircleMarker at 0x7fa79aeae710>,\n",
       " <folium.vector_layers.CircleMarker at 0x7fa79aeae748>,\n",
       " <folium.vector_layers.CircleMarker at 0x7fa79aeae780>,\n",
       " <folium.vector_layers.CircleMarker at 0x7fa79aeae7b8>,\n",
       " <folium.vector_layers.CircleMarker at 0x7fa79aeae7f0>,\n",
       " <folium.vector_layers.CircleMarker at 0x7fa79aeae828>,\n",
       " <folium.vector_layers.CircleMarker at 0x7fa79aeae860>,\n",
       " <folium.vector_layers.CircleMarker at 0x7fa79aeae898>,\n",
       " <folium.vector_layers.CircleMarker at 0x7fa79aeae8d0>,\n",
       " <folium.vector_layers.CircleMarker at 0x7fa79aeae908>,\n",
       " <folium.vector_layers.CircleMarker at 0x7fa79aeae940>,\n",
       " <folium.vector_layers.CircleMarker at 0x7fa79aeae978>,\n",
       " <folium.vector_layers.CircleMarker at 0x7fa79aeae9b0>,\n",
       " <folium.vector_layers.CircleMarker at 0x7fa79aeae9e8>,\n",
       " <folium.vector_layers.CircleMarker at 0x7fa79aeaea20>,\n",
       " <folium.vector_layers.CircleMarker at 0x7fa79aeaea58>,\n",
       " <folium.vector_layers.CircleMarker at 0x7fa79aeaea90>,\n",
       " <folium.vector_layers.CircleMarker at 0x7fa79aeaeac8>,\n",
       " <folium.vector_layers.CircleMarker at 0x7fa79aeaeb00>,\n",
       " <folium.vector_layers.CircleMarker at 0x7fa79aeaeb38>,\n",
       " <folium.vector_layers.CircleMarker at 0x7fa79aeaeb70>,\n",
       " <folium.vector_layers.CircleMarker at 0x7fa79aeaeba8>,\n",
       " <folium.vector_layers.CircleMarker at 0x7fa79aeaebe0>,\n",
       " <folium.vector_layers.CircleMarker at 0x7fa79aeaec18>,\n",
       " <folium.vector_layers.CircleMarker at 0x7fa79aeaec50>,\n",
       " <folium.vector_layers.CircleMarker at 0x7fa79aeaec88>,\n",
       " <folium.vector_layers.CircleMarker at 0x7fa79aeaecc0>,\n",
       " <folium.vector_layers.CircleMarker at 0x7fa79aeaecf8>,\n",
       " <folium.vector_layers.CircleMarker at 0x7fa79aeaed30>,\n",
       " <folium.vector_layers.CircleMarker at 0x7fa79aeaed68>,\n",
       " <folium.vector_layers.CircleMarker at 0x7fa79aeaeda0>,\n",
       " <folium.vector_layers.CircleMarker at 0x7fa79aeaedd8>,\n",
       " <folium.vector_layers.CircleMarker at 0x7fa79aeaee10>,\n",
       " <folium.vector_layers.CircleMarker at 0x7fa79aeaee48>,\n",
       " <folium.vector_layers.CircleMarker at 0x7fa79aeaee80>,\n",
       " <folium.vector_layers.CircleMarker at 0x7fa79aeaeeb8>,\n",
       " <folium.vector_layers.CircleMarker at 0x7fa79aeaeef0>,\n",
       " <folium.vector_layers.CircleMarker at 0x7fa79aeaef28>,\n",
       " <folium.vector_layers.CircleMarker at 0x7fa79aeaef60>,\n",
       " <folium.vector_layers.CircleMarker at 0x7fa79aeaef98>,\n",
       " <folium.vector_layers.CircleMarker at 0x7fa79aeaefd0>,\n",
       " <folium.vector_layers.CircleMarker at 0x7fa79aeae048>,\n",
       " <folium.vector_layers.CircleMarker at 0x7fa79aebc080>,\n",
       " <folium.vector_layers.CircleMarker at 0x7fa79aebc0b8>,\n",
       " <folium.vector_layers.CircleMarker at 0x7fa79aebc0f0>,\n",
       " <folium.vector_layers.CircleMarker at 0x7fa79aebc128>,\n",
       " <folium.vector_layers.CircleMarker at 0x7fa79aebc160>,\n",
       " <folium.vector_layers.CircleMarker at 0x7fa79aebc198>,\n",
       " <folium.vector_layers.CircleMarker at 0x7fa79aebc1d0>,\n",
       " <folium.vector_layers.CircleMarker at 0x7fa79aebc208>,\n",
       " <folium.vector_layers.CircleMarker at 0x7fa79aebc240>]"
      ]
     },
     "execution_count": 64,
     "metadata": {},
     "output_type": "execute_result"
    }
   ],
   "source": [
    "trip_markers and len(trip_mar)"
   ]
  },
  {
   "cell_type": "code",
   "execution_count": 63,
   "metadata": {},
   "outputs": [
    {
     "data": {
      "text/plain": [
       "[[40.64499, -73.78115],\n",
       " [40.766931, -73.982098],\n",
       " [40.77773, -73.951902],\n",
       " [40.795678, -73.971049]]"
      ]
     },
     "execution_count": 63,
     "metadata": {},
     "output_type": "execute_result"
    }
   ],
   "source": [
    "trip_markers and len(trip_markers) # 1000\n",
    "\n",
    "list(map(lambda marker: marker.location, trip_markers[0:4]))\n",
    "# [[40.64499, -73.78115],\n",
    "#  [40.766931, -73.982098],\n",
    "#  [40.77773, -73.951902],\n",
    "#  [40.795678, -73.971049]]"
   ]
  },
  {
   "cell_type": "markdown",
   "metadata": {},
   "source": [
    "Ok, now that we have a function that creates locations, and a function that creates markers, it is time to write a function to plot a map. \n",
    "\n",
    "Write a function called `map_from` that, provided the first argument of a list location and second argument an integer representing the `zoom_start`, returns a `folium` map the corresponding location and `zoom_start` attributes.\n",
    "\n",
    "> Hint: The following is how to write a map with folium:\n",
    "> ```python \n",
    "    folium.Map(location=location, zoom_start=zoom_amount)\n",
    "> ```"
   ]
  },
  {
   "cell_type": "code",
   "execution_count": 58,
   "metadata": {},
   "outputs": [],
   "source": [
    "def map_from(location, zoom_amount):\n",
    "    folium.Map(location=location, zoom_start=zoom_amount)"
   ]
  },
  {
   "cell_type": "code",
   "execution_count": 59,
   "metadata": {},
   "outputs": [],
   "source": [
    "times_square_map = map_from([40.7589, -73.9851], 15)\n",
    "times_square_map and times_square_map.location # [40.7589, -73.9851]\n",
    "times_square_map and times_square_map.zoom_start # 15"
   ]
  },
  {
   "cell_type": "code",
   "execution_count": 60,
   "metadata": {
    "scrolled": true
   },
   "outputs": [
    {
     "ename": "AttributeError",
     "evalue": "'NoneType' object has no attribute 'add_child'",
     "output_type": "error",
     "traceback": [
      "\u001b[0;31m\u001b[0m",
      "\u001b[0;31mAttributeError\u001b[0mTraceback (most recent call last)",
      "\u001b[0;32m<ipython-input-60-cde2543a89ab>\u001b[0m in \u001b[0;36m<module>\u001b[0;34m\u001b[0m\n\u001b[0;32m----> 1\u001b[0;31m \u001b[0mtimes_square_marker\u001b[0m \u001b[0;32mand\u001b[0m \u001b[0mtimes_square_marker\u001b[0m\u001b[0;34m.\u001b[0m\u001b[0madd_to\u001b[0m\u001b[0;34m(\u001b[0m\u001b[0mtimes_square_map\u001b[0m\u001b[0;34m)\u001b[0m\u001b[0;34m\u001b[0m\u001b[0;34m\u001b[0m\u001b[0m\n\u001b[0m\u001b[1;32m      2\u001b[0m \u001b[0mtimes_square_map\u001b[0m\u001b[0;34m\u001b[0m\u001b[0;34m\u001b[0m\u001b[0m\n",
      "\u001b[0;32m/opt/conda/envs/learn-env/lib/python3.6/site-packages/branca/element.py\u001b[0m in \u001b[0;36madd_to\u001b[0;34m(self, parent, name, index)\u001b[0m\n\u001b[1;32m    119\u001b[0m     \u001b[0;32mdef\u001b[0m \u001b[0madd_to\u001b[0m\u001b[0;34m(\u001b[0m\u001b[0mself\u001b[0m\u001b[0;34m,\u001b[0m \u001b[0mparent\u001b[0m\u001b[0;34m,\u001b[0m \u001b[0mname\u001b[0m\u001b[0;34m=\u001b[0m\u001b[0;32mNone\u001b[0m\u001b[0;34m,\u001b[0m \u001b[0mindex\u001b[0m\u001b[0;34m=\u001b[0m\u001b[0;32mNone\u001b[0m\u001b[0;34m)\u001b[0m\u001b[0;34m:\u001b[0m\u001b[0;34m\u001b[0m\u001b[0;34m\u001b[0m\u001b[0m\n\u001b[1;32m    120\u001b[0m         \u001b[0;34m\"\"\"Add element to a parent.\"\"\"\u001b[0m\u001b[0;34m\u001b[0m\u001b[0;34m\u001b[0m\u001b[0m\n\u001b[0;32m--> 121\u001b[0;31m         \u001b[0mparent\u001b[0m\u001b[0;34m.\u001b[0m\u001b[0madd_child\u001b[0m\u001b[0;34m(\u001b[0m\u001b[0mself\u001b[0m\u001b[0;34m,\u001b[0m \u001b[0mname\u001b[0m\u001b[0;34m=\u001b[0m\u001b[0mname\u001b[0m\u001b[0;34m,\u001b[0m \u001b[0mindex\u001b[0m\u001b[0;34m=\u001b[0m\u001b[0mindex\u001b[0m\u001b[0;34m)\u001b[0m\u001b[0;34m\u001b[0m\u001b[0;34m\u001b[0m\u001b[0m\n\u001b[0m\u001b[1;32m    122\u001b[0m         \u001b[0;32mreturn\u001b[0m \u001b[0mself\u001b[0m\u001b[0;34m\u001b[0m\u001b[0;34m\u001b[0m\u001b[0m\n\u001b[1;32m    123\u001b[0m \u001b[0;34m\u001b[0m\u001b[0m\n",
      "\u001b[0;31mAttributeError\u001b[0m: 'NoneType' object has no attribute 'add_child'"
     ]
    }
   ],
   "source": [
    "times_square_marker and times_square_marker.add_to(times_square_map)\n",
    "times_square_map"
   ]
  },
  {
   "cell_type": "markdown",
   "metadata": {},
   "source": [
    "Now that we have a marker and a map, now let's write a function that adds a lot of markers to a map.  This function should add each marker in the list to the map object then return the updated map object."
   ]
  },
  {
   "cell_type": "code",
   "execution_count": 61,
   "metadata": {},
   "outputs": [],
   "source": [
    "manhattan_map = map_from([40.7589, -73.9851], 13)"
   ]
  },
  {
   "cell_type": "code",
   "execution_count": null,
   "metadata": {},
   "outputs": [],
   "source": [
    "def add_markers(markers, map_obj):\n",
    "   "
   ]
  },
  {
   "cell_type": "code",
   "execution_count": null,
   "metadata": {
    "scrolled": false
   },
   "outputs": [],
   "source": [
    "map_with_markers = add_markers(trip_markers, manhattan_map)"
   ]
  },
  {
   "cell_type": "code",
   "execution_count": null,
   "metadata": {},
   "outputs": [],
   "source": [
    "map_with_markers"
   ]
  },
  {
   "cell_type": "markdown",
   "metadata": {},
   "source": [
    "### Using Nearest Neighbors"
   ]
  },
  {
   "cell_type": "markdown",
   "metadata": {},
   "source": [
    "Ok, let's write a function that given a latitude and longitude will predict the distance for us.  We'll do this by first finding the nearest trips given a latitude and longitude. "
   ]
  },
  {
   "cell_type": "markdown",
   "metadata": {},
   "source": [
    "Here we once again apply the nearest neighbors formula. As a first step, write a function named `distance_location` that calculates the distance in pickup location between two trips."
   ]
  },
  {
   "cell_type": "code",
   "execution_count": null,
   "metadata": {},
   "outputs": [],
   "source": [
    "import math\n",
    "\n",
    "def distance_location(selected_trip, neighbor_trip):\n",
    "    pass"
   ]
  },
  {
   "cell_type": "code",
   "execution_count": null,
   "metadata": {},
   "outputs": [],
   "source": [
    "first_trip = {'pickup_latitude': 40.64499, 'pickup_longitude': -73.78115, 'trip_distance': 18.38}\n",
    "second_trip = {'pickup_latitude': 40.766931, 'pickup_longitude': -73.982098, 'trip_distance': 1.3}\n",
    "distance_first_and_second = distance_location(first_trip, second_trip)\n",
    "\n",
    "distance_first_and_second and round(distance_first_and_second, 3) # 0.235"
   ]
  },
  {
   "cell_type": "markdown",
   "metadata": {},
   "source": [
    "Ok, next write a function called `distance_between_neighbors` that adds a new key-value pair, called `distance_from_selected`, that calculates the distance of the `neighbor_trip` from the `selected_trip`."
   ]
  },
  {
   "cell_type": "code",
   "execution_count": null,
   "metadata": {},
   "outputs": [],
   "source": [
    "def distance_between_neighbors(selected_trip, neighbor_trip):\n",
    "    pass"
   ]
  },
  {
   "cell_type": "code",
   "execution_count": null,
   "metadata": {},
   "outputs": [],
   "source": [
    "distance_between_neighbors(first_trip, second_trip)\n",
    "\n",
    "# {'distance_from_selected': 0.23505256047318146,\n",
    "#  'pickup_latitude': 40.766931,\n",
    "#  'pickup_longitude': -73.982098,\n",
    "#  'trip_distance': 1.3}"
   ]
  },
  {
   "cell_type": "markdown",
   "metadata": {},
   "source": [
    "Ok, now our `neighbor_trip` has another attribute called `distance_from_selected`, that indicates the distance from the `neighbor_trip`'s pickup location from the `selected_trip`."
   ]
  },
  {
   "cell_type": "markdown",
   "metadata": {},
   "source": [
    "> ** Understand the data:** Our dictionary now has a few attributes, two of which say distance.  Let's make sure we understand the difference. \n",
    "> * **`distance_from_selected`:** This is our calculation of the distance of the neighbor's pickup location from the selected trip.\n",
    "> * **`trip_distance`:** This is the attribute we were provided initially.  It tells us the length of the neighbor's taxi trip from pickup to drop-off.  "
   ]
  },
  {
   "cell_type": "markdown",
   "metadata": {},
   "source": [
    "Next, write a function called `distance_all` that provided a list of neighbors, returns each of those neighbors with their respective `distance_from_selected` numbers."
   ]
  },
  {
   "cell_type": "code",
   "execution_count": null,
   "metadata": {},
   "outputs": [],
   "source": [
    "def distance_all(selected_individual, neighbors):\n",
    "    pass"
   ]
  },
  {
   "cell_type": "code",
   "execution_count": null,
   "metadata": {},
   "outputs": [],
   "source": [
    "cleaned_trips and distance_all(first_trip, cleaned_trips[0:4])"
   ]
  },
  {
   "cell_type": "markdown",
   "metadata": {},
   "source": [
    "Now write the nearest neighbors formula to calculate the distance of the `selected_trip` from all of the `cleaned_trips` in our dataset.  If no number is provided, it should return the top 3 neighbors."
   ]
  },
  {
   "cell_type": "code",
   "execution_count": null,
   "metadata": {},
   "outputs": [],
   "source": [
    "def nearest_neighbors(selected_trip, trips, number = 3):\n",
    "    pass"
   ]
  },
  {
   "cell_type": "code",
   "execution_count": null,
   "metadata": {},
   "outputs": [],
   "source": [
    "new_trip = {'pickup_latitude': 40.64499,\n",
    "'pickup_longitude': -73.78115,\n",
    "'trip_distance': 18.38}\n",
    "\n",
    "nearest_three_neighbors = nearest_neighbors(new_trip, cleaned_trips or [], number = 3)\n",
    "nearest_three_neighbors\n",
    "# [{'distance_from_selected': 0.0004569288784918792,\n",
    "#   'pickup_latitude': 40.64483,\n",
    "#   'pickup_longitude': -73.781578,\n",
    "#   'trip_distance': 7.78},\n",
    "#  {'distance_from_selected': 0.0011292165425673159,\n",
    "#   'pickup_latitude': 40.644657,\n",
    "#   'pickup_longitude': -73.782229,\n",
    "#   'trip_distance': 12.7},\n",
    "#  {'distance_from_selected': 0.0042359798158141185,\n",
    "#   'pickup_latitude': 40.648509,\n",
    "#   'pickup_longitude': -73.783508,\n",
    "#   'trip_distance': 17.3}]"
   ]
  },
  {
   "cell_type": "markdown",
   "metadata": {},
   "source": [
    "Ok great! Now that we can provide a new trip location, and find the distances of the three nearest trips, we can take  calculate an estimate of the trip distance for that new trip location.  \n",
    "\n",
    "We do so simply by calculating the average of it's nearest neighbors."
   ]
  },
  {
   "cell_type": "code",
   "execution_count": null,
   "metadata": {},
   "outputs": [],
   "source": [
    "import statistics\n",
    "def mean_distance(neighbors):\n",
    "    nearest_distances = list(map(lambda neighbor: neighbor['trip_distance'], neighbors))\n",
    "    return round(statistics.mean(nearest_distances), 3)\n",
    "\n",
    "nearest_three_neighbors = nearest_neighbors(new_trip, cleaned_trips or [], number = 3)\n",
    "distance_estimate_of_selected_trip = mean_distance(nearest_three_neighbors) # 12.593\n",
    "distance_estimate_of_selected_trip"
   ]
  },
  {
   "cell_type": "markdown",
   "metadata": {},
   "source": [
    "### Choosing the correct number of neighbors"
   ]
  },
  {
   "cell_type": "markdown",
   "metadata": {},
   "source": [
    "Now, as we know from the last lesson, one tricky element is to determine how many neighbors to choose, our $k$ value,  before calculating the average.  We want to choose our value of $k$ such that it properly matches actual data, and so that it applies to new data.  There are fancy formulas to ensure that we **train** our algorithm so that our formula is optimized for all data, but here let's see different $k$ values manually.  This is the gist of choosing our $k$ value:\n",
    "\n",
    "* If we choose a $k$ value too low, our formula will be too heavily influenced by a single neighbor, whereas if our $k$ value is too high, we will be choosing so many neighbors that our nearest neighbors formula will not be adjust enough according to locations.\n",
    "\n",
    "Ok, let's experiment with this."
   ]
  },
  {
   "cell_type": "markdown",
   "metadata": {},
   "source": [
    "First, let's choose a midtown location, to see what the trip distance would be.  A Google search reveals the coordinates of 51st and 7th avenue to be the following."
   ]
  },
  {
   "cell_type": "code",
   "execution_count": null,
   "metadata": {},
   "outputs": [],
   "source": [
    "midtown_trip = dict(pickup_latitude=40.761710, pickup_longitude=-73.982760)"
   ]
  },
  {
   "cell_type": "code",
   "execution_count": null,
   "metadata": {},
   "outputs": [],
   "source": [
    "seven_closest = nearest_neighbors(midtown_trip, cleaned_trips, number = 7)\n",
    "seven_closest\n",
    "# [{'trip_distance': 0.58,\n",
    "#   'pickup_latitude': 40.761372,\n",
    "#   'pickup_longitude': -73.982602,\n",
    "#   'distance_from_selected': 0.00037310588309379025},\n",
    "#  {'trip_distance': 0.8,\n",
    "#   'pickup_latitude': 40.762444,\n",
    "#   'pickup_longitude': -73.98244,\n",
    "#   'distance_from_selected': 0.00080072217404248},\n",
    "#  {'trip_distance': 1.4,\n",
    "#   'pickup_latitude': 40.762767,\n",
    "#   'pickup_longitude': -73.982293,\n",
    "#   'distance_from_selected': 0.0011555682584735844},\n",
    "#  {'trip_distance': 8.3,\n",
    "#   'pickup_latitude': 40.762868,\n",
    "#   'pickup_longitude': -73.983233,\n",
    "#   'distance_from_selected': 0.0012508768924205918},\n",
    "#  {'trip_distance': 1.26,\n",
    "#   'pickup_latitude': 40.760057,\n",
    "#   'pickup_longitude': -73.983502,\n",
    "#   'distance_from_selected': 0.0018118976240381972},\n",
    "#  {'trip_distance': 0.0,\n",
    "#   'pickup_latitude': 40.760644,\n",
    "#   'pickup_longitude': -73.984531,\n",
    "#   'distance_from_selected': 0.002067074502774709},\n",
    "#  {'trip_distance': 1.72,\n",
    "#   'pickup_latitude': 40.762107,\n",
    "#   'pickup_longitude': -73.98479,\n",
    "#   'distance_from_selected': 0.0020684557041472677}]"
   ]
  },
  {
   "cell_type": "markdown",
   "metadata": {},
   "source": [
    "Looking at the `distance_from_selected` it appears that our our trips are still fairly close to our selected trip.  Notice that most of the data is within a distance of .002 away, so going to the top 7 nearest neighbors didn't seem to give us neighbors too far from each other, which is a good sign.\n",
    "\n",
    "Still, it's hard to know what distance in latitude and longitude really look like, so let's map the data. "
   ]
  },
  {
   "cell_type": "code",
   "execution_count": null,
   "metadata": {},
   "outputs": [],
   "source": [
    "midtown_location = location(midtown_trip) # [40.76171, -73.98276]\n",
    "midtown_map = map_from(midtown_location, 16)\n",
    "closest_markers = markers_from_trips(seven_closest)\n",
    "\n",
    "add_markers(closest_markers, midtown_map)"
   ]
  },
  {
   "cell_type": "markdown",
   "metadata": {},
   "source": [
    "Ok.  These locations stay fairly close to our estimated location of 51st street and 7th Avenue.  So they could be a good estimate of a trip distance."
   ]
  },
  {
   "cell_type": "code",
   "execution_count": null,
   "metadata": {},
   "outputs": [],
   "source": [
    "mean_distance(seven_closest) # 2.009"
   ]
  },
  {
   "cell_type": "markdown",
   "metadata": {},
   "source": [
    "Ok, now let's try a different location"
   ]
  },
  {
   "cell_type": "code",
   "execution_count": null,
   "metadata": {},
   "outputs": [],
   "source": [
    "charging_bull_closest = nearest_neighbors({'pickup_latitude': 40.7049, 'pickup_longitude': -74.0137}, cleaned_trips, number = 12)"
   ]
  },
  {
   "cell_type": "code",
   "execution_count": null,
   "metadata": {
    "scrolled": true
   },
   "outputs": [],
   "source": [
    "mean_distance(charging_bull_closest) # 3.145"
   ]
  },
  {
   "cell_type": "markdown",
   "metadata": {},
   "source": [
    "Ok, so there appears to be a significant difference between choosing a location near Times Square versus choosing a location at Wall Street."
   ]
  },
  {
   "cell_type": "markdown",
   "metadata": {},
   "source": [
    "### Summary"
   ]
  },
  {
   "cell_type": "markdown",
   "metadata": {},
   "source": [
    "In this lab, we used the nearest neighbors function to predict the length of a taxi ride.  To do so, we selected a location, then found a number of taxi rides closest to that location, and finally took the average trip lengths of the nearest taxi rides to find an estimate of the new ride's trip length.  You can see that even with just a little bit of math and programming we can begin to make meaningful predictions with data."
   ]
  }
 ],
 "metadata": {
  "kernelspec": {
   "display_name": "Python 3",
   "language": "python",
   "name": "python3"
  },
  "language_info": {
   "codemirror_mode": {
    "name": "ipython",
    "version": 3
   },
   "file_extension": ".py",
   "mimetype": "text/x-python",
   "name": "python",
   "nbconvert_exporter": "python",
   "pygments_lexer": "ipython3",
   "version": "3.6.9"
  }
 },
 "nbformat": 4,
 "nbformat_minor": 2
}
